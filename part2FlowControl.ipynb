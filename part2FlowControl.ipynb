{
 "cells": [
  {
   "cell_type": "markdown",
   "id": "2dbf846a-08f2-4ab1-a324-9785d8d15a12",
   "metadata": {},
   "source": [
    "# Part 2: Booleans, Conditionals and Flow Control\n",
    "\n",
    "## Boolean Values\n",
    "Now, the power of Python, or any programming language for that matter, comes from the ability to dynamically execute certain expressions based on conditions that we define.  \n",
    "\n",
    "In order for us to understand this section though, we have to introduce another brand new data type!  The __boolean__ (or bool) data type.\n",
    "\n",
    "The boolean data type represents a logical binary, it can either be True or False, nothing else.\n",
    "\n",
    "What this allows us to do is evaluate logical expressions to determine their _truth value_.  Here's some examples:"
   ]
  },
  {
   "cell_type": "code",
   "execution_count": 4,
   "id": "2d84df0c-cc01-4acd-aff8-648909376f69",
   "metadata": {
    "scrolled": true
   },
   "outputs": [
    {
     "data": {
      "text/plain": [
       "True"
      ]
     },
     "execution_count": 4,
     "metadata": {},
     "output_type": "execute_result"
    }
   ],
   "source": [
    "# The boolean value True\n",
    "True"
   ]
  },
  {
   "cell_type": "code",
   "execution_count": 5,
   "id": "9868c5f4-053b-4e5e-ac40-ed765fb1317d",
   "metadata": {},
   "outputs": [
    {
     "data": {
      "text/plain": [
       "False"
      ]
     },
     "execution_count": 5,
     "metadata": {},
     "output_type": "execute_result"
    }
   ],
   "source": [
    "# The boolean value True\n",
    "False"
   ]
  },
  {
   "cell_type": "code",
   "execution_count": 1,
   "id": "6127be35-45ed-49f6-88d7-711224ac97aa",
   "metadata": {},
   "outputs": [
    {
     "data": {
      "text/plain": [
       "True"
      ]
     },
     "execution_count": 1,
     "metadata": {},
     "output_type": "execute_result"
    }
   ],
   "source": [
    "10 > 5"
   ]
  },
  {
   "cell_type": "markdown",
   "id": "4e6c1d4f-e981-4e45-bee6-d1a9aedf6b34",
   "metadata": {},
   "source": [
    "You can see in the last example this expression evaluates down to a single value just like any other, but in this case, that value is a __boolean__ one (True in this case, because 10 is greater than 5)\n",
    "\n",
    "This is just a very simple example, however, and we can make much more complicated statements if the need arises by using the __and__ & __or__ operators, which allow us to evaluate more complicated conditional statements.  See the following example:"
   ]
  },
  {
   "cell_type": "code",
   "execution_count": 2,
   "id": "b6f47255-6d7c-4f5e-b711-391d83aeb63b",
   "metadata": {},
   "outputs": [
    {
     "data": {
      "text/plain": [
       "False"
      ]
     },
     "execution_count": 2,
     "metadata": {},
     "output_type": "execute_result"
    }
   ],
   "source": [
    "(10 > 5) and (10 > 11)"
   ]
  },
  {
   "cell_type": "markdown",
   "id": "5f6a8aa5-652c-4e9d-92ff-11e53a1de8b2",
   "metadata": {},
   "source": [
    "This expression evaluates to __False__, why is that?  \n",
    "\n",
    "The first part of the expression `(10 > 5)` evaluates to __True__ as we've seen, but the second part evaluates to __False__, as 10 is _not_ greater than 11.  So what this entire expression is evaluating is whether __both__ of the statements evaluate to __True__.  If either one of them does not, the entire expression returns __False__.  \n",
    "\n",
    "What about an example using __or__?"
   ]
  },
  {
   "cell_type": "code",
   "execution_count": 3,
   "id": "b4804929-964a-4efb-8f12-7e9f0fe9be20",
   "metadata": {},
   "outputs": [
    {
     "data": {
      "text/plain": [
       "True"
      ]
     },
     "execution_count": 3,
     "metadata": {},
     "output_type": "execute_result"
    }
   ],
   "source": [
    "(10 > 5) or (10 > 11)"
   ]
  },
  {
   "cell_type": "markdown",
   "id": "c1980c78-59fd-4f92-b0b7-e38f9ebdfc79",
   "metadata": {},
   "source": [
    "This expression evaluates to __True__, since the __or__ operator in this case is simply checking to see if __either__ of the statements evaluates to __True__.  Since the first one does, this expression returns __True__!\n",
    "\n",
    "Now, this is all very interesting, and I'm sure you're incredibly excited for this new data type, of course.  But the _real_ power of the Boolean data type is in what we're going to call:\n",
    "\n",
    "### Flow Control\n",
    "\n",
    "Flow control is how we direct the execution of our code, and we do so using Boolean values derived from expressions and conditional statements.  This is how we can have our code check to see if certain __conditions__ are met, and to change its behavior depending on the outcome of those conditionals.  \n",
    "\n",
    "An excellent way to illustrate this is with a flow chart.  Here's an example of a flow chart to help determine if a lamp is working or broken:\n",
    "\n",
    "![alt text](images/flowChart.svg \"Flow Chart\")\n",
    "\n",
    "As you can see, there is not only one path to the end of this chart, it isn't a maze.  The same will be true of our code!  When we are controlloing the flow of the execution of our code, we are essentially constructing a flow chart using conditional statements like the ones we see above.\n",
    "\n",
    "In some sense, it might feel a little bit overkill to construct a flow chart for something so simple, and in the real world that might be the case, but this example can help illustrate the biggest advantage computers have over humans, and why coding is so powerful.  \n",
    "\n",
    "Take a look at the variables in the next cell."
   ]
  },
  {
   "cell_type": "code",
   "execution_count": 6,
   "id": "e46c6526-703b-4bb5-93a1-e5061ba1ac43",
   "metadata": {},
   "outputs": [],
   "source": [
    "lampTurnsOn = False\n",
    "lampPluggedIn = False\n",
    "lampTurnsOnAfterPluggedIn = False\n",
    "bulbBurntOut = True\n",
    "lampTurnsOnAfterReplacingBulb = True"
   ]
  },
  {
   "cell_type": "markdown",
   "id": "39f1cf7e-cd6f-46ea-b6e8-88a6735820b7",
   "metadata": {},
   "source": [
    "If we simply examine these variables it is easy to follow our flow chart to a conclusion, right?  \n",
    "- Our first variable `lampTurnsOn` lets us know that at the beginning of our chart, the lamp is __not__ turning on.  So we check to see if it is plugged in.\n",
    "- The second variable `lampPluggedIn` lets us know that __no, the lamp is not plugged in__.\n",
    "- So we plug it in and check again!  Thats where the third variable `lampTurnsOnAfterPluggedIn` lets us know that the lamp _still_ doesn't turn on after plugging it in, so we need to check the bulb!\n",
    "- The `bulbBurntOut` variable is `True` so we know that the bulb is burnt out, let's change it!\n",
    "- After we change it we check one more time and we can see from the `lampTurnsOnAfterReplacingBulb` variable that the lamp does turn on now!  So it is _not_ broken.\n",
    "\n",
    "Pretty simple, right?  Okay, now say we had the same data for 10000 lamps and we needed to check every single one?  Not so simple anymore for you or me to do manually, but for a computer?  It would take no time.\n",
    "\n",
    "So, how do we direct our code to go down different paths depending on conditional statements?\n",
    "\n",
    "## if / elif / else\n",
    "The conditional statements above are how!\n",
    "\n",
    "These work by checking a boolean value (either directly or as the result of an expression) and executing or skipping certain lines based on the result!  \n",
    "\n",
    "For the if statement, for instance, it works like this:\n",
    "\n",
    "```\n",
    "if {Expression that evaluates to a boolean value}:\n",
    "    doStuffHere\n",
    "```\n",
    "\n",
    "the part in the curly braces above is what we use to determine whether to execute the code block after the `if` statement or not!\n",
    "\n",
    ">Note, in Python we use _indentation_ to indicate to the language which lines are meant to be a part of the code the if statement executes if the conditional expression evaluates to `True`\n",
    "\n",
    "Let's take a look at a simple example."
   ]
  },
  {
   "cell_type": "code",
   "execution_count": 8,
   "id": "48889407-a95e-49db-8909-d74b0a254571",
   "metadata": {},
   "outputs": [
    {
     "name": "stdout",
     "output_type": "stream",
     "text": [
      "Hello world!\n",
      "Hi there!\n"
     ]
    }
   ],
   "source": [
    "print(\"Hello world!\")\n",
    "if True:\n",
    "    print(\"Hi there!\")\n",
    "if False:\n",
    "    print(\"Goodbye!\")"
   ]
  },
  {
   "cell_type": "markdown",
   "id": "a12fb4e7-0625-46b9-838b-6944d2a51679",
   "metadata": {},
   "source": [
    "See how the above code executed?  First it printed \"Hello world\" for us to read below the cell, then for the first if statement, it checked to see if the expression `True`, evaluated to True, which it did.  Then Python executed the code in the indented block below our if statement `print(\"Hi there!\")`.  Finally it checked to see if the expression `False` evaluated to True, which it did not, so the indented code block after that if statement did __not__ execute.\n",
    "\n",
    "In this case we are just using boolean values which will always trigger or skip the if block though, which isn't very helpful, let's take a look at something slightly more helpful:"
   ]
  },
  {
   "cell_type": "code",
   "execution_count": 9,
   "id": "0c75fea0-3c00-4d20-ae49-c05074b9fd85",
   "metadata": {},
   "outputs": [
    {
     "name": "stdout",
     "output_type": "stream",
     "text": [
      "10 is greater than 5, yep, sure is!\n"
     ]
    }
   ],
   "source": [
    "if 10 > 5:\n",
    "    print(\"10 is greater than 5, yep, sure is!\")"
   ]
  },
  {
   "cell_type": "markdown",
   "id": "f24063ec-1677-4213-bec5-3014efe18e2c",
   "metadata": {},
   "source": [
    "See that?  We used a logical expression `10 > 5` which evaluates to True, and therefore executed the code in the indentend block!  Like before we can get even more complicated with our expression (and we often do) with multiple logical expressions using `and` & `or` operators as well.  \n",
    "\n",
    "So, what if we want to check if a statement is True, do something if it is, and do something _else_ if it is not?  Well, you guessed it, we'll use the `else` statement for that case!\n",
    "\n",
    "Take a look at this flow chart, and then the code below it which shows how to implement this flow with Python!\n",
    "\n",
    "![alt text](images/lasagnaExample.svg \"Flow Chart\")"
   ]
  },
  {
   "cell_type": "code",
   "execution_count": 13,
   "id": "be04db83-0724-4435-a1d9-866fa34fe9ec",
   "metadata": {},
   "outputs": [
    {
     "name": "stdout",
     "output_type": "stream",
     "text": [
      "lasagna!\n"
     ]
    }
   ],
   "source": [
    "favoriteFood = 'lasagna'\n",
    "if favoriteFood == 'lasagna':\n",
    "    print(\"lasagna!\")\n",
    "else:\n",
    "    print(\"not lasagna?\")"
   ]
  },
  {
   "cell_type": "markdown",
   "id": "eca29525-d343-42d3-b00a-039b7328d916",
   "metadata": {},
   "source": [
    "So in this case, we will always see one of the two possible outputs:\n",
    "- \"lasagna!\"\n",
    "  \n",
    "or\n",
    "- \"not lasagna?\"]\n",
    "\n",
    ">Note, in python when comparing two objects for equality we use `==` as opposed to `=` which is how we declare variables \n",
    "\n",
    "But what if we wanted a third potential option?  What if we also wanted to check to see if someone's favorite dish was, say, sushi?  Well that's where `elif` comes in! For the following flow chart check out the code block below it to see how the elif function can implement it in code!\n",
    "\n",
    "![alt text](images/lasagnaExample2.svg \"Flow Chart\")"
   ]
  },
  {
   "cell_type": "code",
   "execution_count": 14,
   "id": "bc37c9b2-6719-4f58-b387-21ca9df5fe62",
   "metadata": {},
   "outputs": [
    {
     "name": "stdout",
     "output_type": "stream",
     "text": [
      "lasagna!\n"
     ]
    }
   ],
   "source": [
    "favoriteFood = 'lasagna'\n",
    "if favoriteFood == 'lasagna':\n",
    "    print(\"lasagna!\")\n",
    "elif favoriteFood == 'sushi':\n",
    "    print(\"Oh, sushi!\")\n",
    "else:\n",
    "    print(\"What do you like?\")"
   ]
  },
  {
   "cell_type": "code",
   "execution_count": 15,
   "id": "8788779d-e5d7-4249-b2e6-7a8281dcb0fe",
   "metadata": {},
   "outputs": [
    {
     "name": "stdout",
     "output_type": "stream",
     "text": [
      "Oh, sushi!\n"
     ]
    }
   ],
   "source": [
    "favoriteFood = 'sushi'\n",
    "if favoriteFood == 'lasagna':\n",
    "    print(\"lasagna!\")\n",
    "elif favoriteFood == 'sushi':\n",
    "    print(\"Oh, sushi!\")\n",
    "else:\n",
    "    print(\"What do you like?\")"
   ]
  },
  {
   "cell_type": "code",
   "execution_count": 16,
   "id": "2ab1cf03-b857-4ab1-a7f1-305a5ed25f1b",
   "metadata": {},
   "outputs": [
    {
     "name": "stdout",
     "output_type": "stream",
     "text": [
      "What do you like?\n"
     ]
    }
   ],
   "source": [
    "favoriteFood = 'steak'\n",
    "if favoriteFood == 'lasagna':\n",
    "    print(\"lasagna!\")\n",
    "elif favoriteFood == 'sushi':\n",
    "    print(\"Oh, sushi!\")\n",
    "else:\n",
    "    print(\"What do you like?\")"
   ]
  },
  {
   "cell_type": "markdown",
   "id": "aae8a6ea-2a6d-46f9-a158-882bbc5eb5c1",
   "metadata": {},
   "source": [
    "In this case there are only 3 possible outcomes, but you can chain together as many `elif` statements as you like to creat the desired behavior for any particular use case!  Though generally if you're putting together more than a few `elif` statements there is probably a better approach to your problem.\n",
    "\n",
    "One important thing to note is that the order of your statements matters as well.  Python will check a conditional statement (either `if` or `elif`) and if the expression evaluates to `False` it will move on to the next.  As soon as it reaches a conditional statement where the expression evaluates to `True`, it will execute the indented code block directly afterward and then _skip_ the remaining conditional statements.  Just something to keep in mind!\n",
    "\n",
    "We can get even more complicated with our conditionals, by nesting them, which we will get more into later, but for now, here is a quick example:"
   ]
  },
  {
   "cell_type": "code",
   "execution_count": 17,
   "id": "df88c080-9cf6-484d-86f7-1a272bcfc756",
   "metadata": {},
   "outputs": [
    {
     "name": "stdout",
     "output_type": "stream",
     "text": [
      "We have too many ham sandwiches! They are now on sale for $2.00 each!\n"
     ]
    }
   ],
   "source": [
    "sandwich = 'ham'\n",
    "quantity = 10 # <---- try changing this value to see what output we get!\n",
    "\n",
    "if sandwich == 'ham':\n",
    "    if quantity < 0:\n",
    "        print(\"We have negative ham sandwiches? How????\")\n",
    "    if quantity > 5:\n",
    "        print(\"We have too many ham sandwiches! They are now on sale for $2.00 each!\")\n",
    "    elif quantity < 2:\n",
    "        print(\"We are running low on ham sandwiches! Go buy more ham!\")\n",
    "    else:\n",
    "        print(\"We are good on ham sandwich stock for now!\")\n",
    "else:\n",
    "    print(\"We don't even have any ham sandwiches!\")"
   ]
  },
  {
   "cell_type": "markdown",
   "id": "3aff338d-0184-4d18-8499-578ecddb3fed",
   "metadata": {},
   "source": [
    "## Exercises\n",
    "Q1: Write some code which prints \"Welcome Alan!\" if the variable `user` is 'Alan' and `password` is 'password123'  \n",
    "<details>\n",
    "<summary>Answer</summary>\n",
    "\n",
    "Code:<br>\n",
    "```\n",
    "if user == 'Alan' and password == 'password123':\n",
    "    print(\"Welcome Alan!\")\n",
    "```\n",
    "<br>    \n",
    "</details>\n",
    "<br>\n",
    "\n",
    "\n",
    "Q2: Write some code which prints:\n",
    "- \"We have too much lasagna!\" if the variable `food` is 'lasagna' and `quantity` is more than 10\n",
    "- \"We are running low on lasagna!\" if the variable `food` is 'lasagna' and `quantity` is less than 5\n",
    "- \"We are doing alright on lasagna!\" if the variable `food` is 'lasagna' and `quantity` is any other number\n",
    "- \"We are doing alright on breadsticks\" if the variable `food` is 'breadsticks' and `quantity` is more than 5\n",
    "- \"We are running low on breadsticks!\" if the variable is `food` and the quantity is any other number\n",
    "\n",
    "<details>\n",
    "<summary>Answer</summary>\n",
    "\n",
    "Code:<br>\n",
    "```\n",
    "if food == 'lasagna':\n",
    "    if quantity > 10:\n",
    "        print(\"We have too much lasagna!\")\n",
    "    elif quantity < 5:\n",
    "        print(\"We are running low on lasagna!\")\n",
    "    else:\n",
    "        print(\"We are doing alright on lasagna!\")\n",
    "elif food == 'breadsticks':\n",
    "    if quantity > 5:\n",
    "        print(\"We are doing alright on breadsticks\")\n",
    "    else:\n",
    "        print(\"We are running low on breadsticks!\")\n",
    "```\n",
    "<br>    \n",
    "</details>\n",
    "<br>"
   ]
  },
  {
   "cell_type": "code",
   "execution_count": 24,
   "id": "df8849ab-51a3-4152-bfcb-11e5236da865",
   "metadata": {},
   "outputs": [],
   "source": [
    "# Question 1\n",
    "user = 'Alan'\n",
    "password = 'password123'\n",
    "\n",
    "# YOUR CODE HERE\n"
   ]
  },
  {
   "cell_type": "code",
   "execution_count": 23,
   "id": "6aa7476b-0d78-4d62-ad32-6380268b8f08",
   "metadata": {},
   "outputs": [],
   "source": [
    "# Question 2\n",
    "food = 'lasagna'\n",
    "quantity = 8\n",
    "\n",
    "# YOUR CODE HERE\n"
   ]
  }
 ],
 "metadata": {
  "kernelspec": {
   "display_name": "dataEnv",
   "language": "python",
   "name": "dataenv"
  },
  "language_info": {
   "codemirror_mode": {
    "name": "ipython",
    "version": 3
   },
   "file_extension": ".py",
   "mimetype": "text/x-python",
   "name": "python",
   "nbconvert_exporter": "python",
   "pygments_lexer": "ipython3",
   "version": "3.13.5"
  }
 },
 "nbformat": 4,
 "nbformat_minor": 5
}
