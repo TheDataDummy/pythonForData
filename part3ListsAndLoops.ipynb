{
 "cells": [
  {
   "cell_type": "markdown",
   "id": "ca958ae7-0717-43bf-8555-2554b631c959",
   "metadata": {},
   "source": [
    "# Part 3: Lists and Loops\n",
    "\n",
    "## Lists\n",
    "\n",
    "A list is another new data type in python, but unlike the others we have seen so far, a list can contain __multiple__ values.  A list is an _ordered_ container, essentially, for multiple values, which means that you can store more than just one thing in them, and the order of the list is maintained.  Meaning the first item in the list will stay the first item, each time you access it.  The syntax of a list is `[]` square brackets with commas separating the items.  Let's look at an example!"
   ]
  },
  {
   "cell_type": "code",
   "execution_count": 2,
   "id": "ec1479f0-80d7-42cb-a249-a182b2e85912",
   "metadata": {},
   "outputs": [
    {
     "name": "stdout",
     "output_type": "stream",
     "text": [
      "[1, 2, 3, 4]\n"
     ]
    }
   ],
   "source": [
    "myList = [1, 2, 3, 4]\n",
    "print(myList)"
   ]
  },
  {
   "cell_type": "markdown",
   "id": "7c0dec56-4e8d-4731-869a-007fc6338b5d",
   "metadata": {},
   "source": [
    "You can see here we have created a list of size 4!  We can verify the size of a list by using the `len` function on it, like so:"
   ]
  },
  {
   "cell_type": "code",
   "execution_count": 3,
   "id": "5f819cc7-d4cc-428f-ac67-32a7b809b847",
   "metadata": {},
   "outputs": [
    {
     "data": {
      "text/plain": [
       "4"
      ]
     },
     "execution_count": 3,
     "metadata": {},
     "output_type": "execute_result"
    }
   ],
   "source": [
    "len(myList)"
   ]
  },
  {
   "cell_type": "markdown",
   "id": "2b212a6b-c536-434d-8e0e-f210e9f1e5b0",
   "metadata": {},
   "source": [
    "So, now that we have our list, let's say we want to access the _second_ element of the list: `2`.  Well, to do so we need to give Python a __list index__, which represents the index of the item we wish to retrieve from the list.  The thing is, python (and most programming languages) make use of something called _0-based indexing_, meaning that the first item in the list is said to be at index 0, the second item at index 1 and so on.  There are many reasons for this which are sort of beyond the scope of this course, but an easy way to remember this rule when thinking of which index to pass to Python is to ask yourself: \"How many places from the beginning of the list is the item I want?\"  Let's look at the first and last items from our list below using indexing:"
   ]
  },
  {
   "cell_type": "code",
   "execution_count": 4,
   "id": "d1f30d17-6ed1-404d-9913-4a003aa45eff",
   "metadata": {},
   "outputs": [
    {
     "name": "stdout",
     "output_type": "stream",
     "text": [
      "1\n",
      "4\n"
     ]
    }
   ],
   "source": [
    "print(myList[0])\n",
    "print(myList[3])"
   ]
  },
  {
   "cell_type": "markdown",
   "id": "6dfde5ca-57fa-497a-bd9e-3a84a61089b9",
   "metadata": {},
   "source": [
    "But what happens when we try to access an item at an index where there isn't anything?  Well, we get an error of course:"
   ]
  },
  {
   "cell_type": "code",
   "execution_count": 6,
   "id": "3f5d5087-ca5b-443d-b5e0-a17dd920e86c",
   "metadata": {},
   "outputs": [
    {
     "ename": "IndexError",
     "evalue": "list index out of range",
     "output_type": "error",
     "traceback": [
      "\u001b[1;31m---------------------------------------------------------------------------\u001b[0m",
      "\u001b[1;31mIndexError\u001b[0m                                Traceback (most recent call last)",
      "Cell \u001b[1;32mIn[6], line 1\u001b[0m\n\u001b[1;32m----> 1\u001b[0m \u001b[38;5;28mprint\u001b[39m(myList[\u001b[38;5;241m4\u001b[39m])\n",
      "\u001b[1;31mIndexError\u001b[0m: list index out of range"
     ]
    }
   ],
   "source": [
    "print(myList[4])"
   ]
  },
  {
   "cell_type": "markdown",
   "id": "13f09d26-8967-451c-b8bb-0da01a90d90e",
   "metadata": {},
   "source": [
    "Another neat trick you can do with indexing is to pass _negative_ indicies.  This will give us the items starting from the back of the list.  Think about it this way: if we were to start at zero, and move backward one index, rather than give us an error, Python goes back around to the end of the list and gives us that item!"
   ]
  },
  {
   "cell_type": "code",
   "execution_count": 5,
   "id": "8a0b6876-d9db-4f3f-82c8-84cfa565fef1",
   "metadata": {},
   "outputs": [
    {
     "name": "stdout",
     "output_type": "stream",
     "text": [
      "4\n"
     ]
    }
   ],
   "source": [
    "print(myList[-1])"
   ]
  },
  {
   "cell_type": "markdown",
   "id": "efdc69e6-eff1-43bb-94f4-2e5e85aec499",
   "metadata": {},
   "source": [
    "Now, one of the interesting things about python, is that we can easily store values of different types inside the _same_ list!  You can store `str` values, `int` values, `float` values and `boolean` values all in the same list!  We can even store lists within other lists!"
   ]
  },
  {
   "cell_type": "code",
   "execution_count": 8,
   "id": "e3698874-c115-4215-8396-a470be2d7a30",
   "metadata": {},
   "outputs": [
    {
     "name": "stdout",
     "output_type": "stream",
     "text": [
      "2\n"
     ]
    }
   ],
   "source": [
    "newList = ['chicken', 2, 2.5, True, [1, 2]]\n",
    "print(newList[1])"
   ]
  },
  {
   "cell_type": "markdown",
   "id": "b5d1dd24-998d-40bd-ba16-f3e08842fcbe",
   "metadata": {},
   "source": [
    "## Loops\n",
    "\n",
    "### `For` loop\n",
    "Knowing what a list is and how to access the items in a list is important, but what we really want to do in order to unlock their full potential involves one of the two kinds of __loops__ in Python: the `for` loop.\n",
    "\n",
    "The `for` loop works with several different data types in Python, but we'll focus on the list for now.  What a for loop does is allows us to __iterate__ over the items in a list one by one, and do something with each of them individually!  While this seems simple at first, it can be very powerful.  Let's look at an example of how a `for` loop works:"
   ]
  },
  {
   "cell_type": "code",
   "execution_count": 11,
   "id": "05dd17fe-7445-44df-96df-0e0665072c56",
   "metadata": {},
   "outputs": [
    {
     "name": "stdout",
     "output_type": "stream",
     "text": [
      "Hello, Aaron\n",
      "Hello, Alex\n",
      "Hello, Bradley\n",
      "Hello, Cathy\n"
     ]
    }
   ],
   "source": [
    "forLoopList = ['Aaron', 'Alex', 'Bradley', 'Cathy']\n",
    "\n",
    "for name in forLoopList:\n",
    "    # Remember when we learned how to concatenate two strings?  That's all we're doing here!\n",
    "    print(\"Hello, \" + name)"
   ]
  },
  {
   "cell_type": "markdown",
   "id": "b75615b3-3df6-4b9a-91c4-224a1cbdf301",
   "metadata": {},
   "source": [
    "In this case, the `for` loop goes through the list item by item, sets the variable `name` to be equal to the value of the current item in the list it is currently at, and then in our indented code block we can create expressions with the variable to do whatever we would like with it!  \n",
    "\n",
    "There is another way to iterate over a list, and that involves using the `range` function.  We haven't touched on functions much yet, but we will soon.  For this case, all you need to know is that a function is a reusable piece of code that we give a name to so we can call that code whenever we want without having to rewrite all of it each time!\n",
    "\n",
    "The `range` function can be slightly more complicated, but in this case we are simply going to give it the __length__ of our list, and it will loop over the indicies of our list, rather than the values themselves!"
   ]
  },
  {
   "cell_type": "code",
   "execution_count": 15,
   "id": "d167d4cf-736a-4101-a83c-92e1fc88a20a",
   "metadata": {},
   "outputs": [
    {
     "name": "stdout",
     "output_type": "stream",
     "text": [
      "0\n",
      "1\n",
      "2\n",
      "3\n"
     ]
    }
   ],
   "source": [
    "for index in range(len(forLoopList)):\n",
    "    print(index)"
   ]
  },
  {
   "cell_type": "markdown",
   "id": "8a74d03d-a207-4aac-b5b1-144175dea8e1",
   "metadata": {},
   "source": [
    "In this case the `range` function is creating a list of numerical values from 0 to the length of our list - 1!  It is the length of our list - 1 because if it were to go all the way to the length itself we would get an `IndexError` like we saw before we we tried to access index 4.  \n",
    "\n",
    "Here's how to loop through the items in a list using the `range` function:"
   ]
  },
  {
   "cell_type": "code",
   "execution_count": 16,
   "id": "2ac898a8-0d1b-48fe-8b6c-624a2b2cda23",
   "metadata": {},
   "outputs": [
    {
     "name": "stdout",
     "output_type": "stream",
     "text": [
      "Aaron\n",
      "Alex\n",
      "Bradley\n",
      "Cathy\n"
     ]
    }
   ],
   "source": [
    "for index in range(len(forLoopList)):\n",
    "    print(forLoopList[index])"
   ]
  },
  {
   "cell_type": "markdown",
   "id": "b7987ac0-1edb-492a-b51e-cfe45d284c69",
   "metadata": {},
   "source": [
    "Why would we want to do this?  Well, doing it this way allows us to access the values in a list and change them if we like, plus it helps us keep track of where we are in the list, which can be helpful for certain use cases."
   ]
  },
  {
   "cell_type": "code",
   "execution_count": 19,
   "id": "4fee469f-22b8-486b-aadc-d587fa494245",
   "metadata": {},
   "outputs": [
    {
     "name": "stdout",
     "output_type": "stream",
     "text": [
      "['Turkey', 'Turkey', 'Turkey', 'Turkey']\n"
     ]
    }
   ],
   "source": [
    "for index in range(len(forLoopList)):\n",
    "    # let's change all the values to 'Turkey'!\n",
    "    forLoopList[index] = 'Turkey'\n",
    "\n",
    "print(forLoopList)"
   ]
  },
  {
   "cell_type": "markdown",
   "id": "4b8f55cf-200a-44e5-be33-bc2829f64ac9",
   "metadata": {},
   "source": [
    "### `while` loop\n",
    "\n",
    "The other type of loop in Python is the `while` loop.  The `while` loop works sort of similarly to an `if` statement from our previous lesson.  Much like the `if` statement, the `while` statement is given an expression which evaluates to a boolean value, and so long as that statement evaluate to `True` the code inside the indented block after the while loop while execute, then return to the `while` statement, and continue that process until the boolean expression evaluates to `False`.\n",
    "\n",
    "Let's look at an example:"
   ]
  },
  {
   "cell_type": "code",
   "execution_count": 20,
   "id": "ebdcb802-05f7-43c2-b561-865108af0f49",
   "metadata": {},
   "outputs": [
    {
     "name": "stdout",
     "output_type": "stream",
     "text": [
      "0\n",
      "1\n",
      "2\n",
      "3\n",
      "Loop finished!\n",
      "4\n"
     ]
    }
   ],
   "source": [
    "x = 0\n",
    "\n",
    "while x < 4:\n",
    "    print(x)\n",
    "    x = x + 1\n",
    "\n",
    "print(\"Loop finished!\")\n",
    "print(x)"
   ]
  },
  {
   "cell_type": "markdown",
   "id": "3cefc51a-6d15-4765-929b-565f983603ed",
   "metadata": {},
   "source": [
    "In our example above: \n",
    "- we start with `x = 0`\n",
    "- then we check to see if x < 4, it is so we enter the indented `while` loop block\n",
    "- We print the value of x, then we add 1 to it,\n",
    "- our new value is 1,\n",
    "- we exited the indented block, returning to the `while` statement\n",
    "- `x` is now equal to 1, which is still less than 4, so we enter the indented `while` loop block again\n",
    "- We repeat until `x` is equal to 4, the while loop expression evaluates to false, and we skip the indented block, going to the next part of the code"
   ]
  },
  {
   "cell_type": "markdown",
   "id": "316db4dc-696c-415d-90e6-a97c5dd1b24e",
   "metadata": {},
   "source": [
    "That is not the only way to exit a `while` loop (or a `for` loop), though!  We can also use the `break` statement to do the same!  Let's see an example of that:"
   ]
  },
  {
   "cell_type": "code",
   "execution_count": 21,
   "id": "08945b93-b2cf-419b-9611-c043a62bbebb",
   "metadata": {},
   "outputs": [
    {
     "name": "stdout",
     "output_type": "stream",
     "text": [
      "0\n",
      "1\n",
      "Loop finished!\n",
      "2\n"
     ]
    }
   ],
   "source": [
    "x = 0\n",
    "\n",
    "while x < 4:\n",
    "    print(x)\n",
    "    x = x + 1\n",
    "    if x == 2:\n",
    "        break\n",
    "\n",
    "print(\"Loop finished!\")\n",
    "print(x)"
   ]
  },
  {
   "cell_type": "markdown",
   "id": "89b09391-5b33-4419-9289-b7465fd9e72b",
   "metadata": {},
   "source": [
    "You can see above, our loop starts out the same~ `x` = 0, then 1, then the loop finishes and we see `x` = 2 at the very end!  \n",
    "\n",
    "The line `if x == 2:` evaluates to `True` when `x` is 2, then it enters the second indentation block which contains the `break` statement!  Once a `break` statement is triggered, it exits the loop and does not return to the top, it simply ceases all execution on that loop and continues to the next piece of code!\n",
    "\n",
    "There is a way, however, to simply stop the execution of the code in the indentted block and return to the `while` or `for` statement, and that is with the `continue` statement!  \n",
    "\n",
    "Here's an example: let's say we want to get the value of all the even numbers in our list squared, how could we use a `continue` statement to do that?"
   ]
  },
  {
   "cell_type": "code",
   "execution_count": 25,
   "id": "4cdc9f5c-e410-458d-aef9-dea436a2a4e9",
   "metadata": {},
   "outputs": [
    {
     "name": "stdout",
     "output_type": "stream",
     "text": [
      "\n",
      "Current number:\n",
      "1\n",
      "odd number!  Going to next number\n",
      "\n",
      "Current number:\n",
      "2\n",
      "even number!  Here is that number squared:\n",
      "4\n",
      "\n",
      "Current number:\n",
      "3\n",
      "odd number!  Going to next number\n",
      "\n",
      "Current number:\n",
      "4\n",
      "even number!  Here is that number squared:\n",
      "16\n"
     ]
    }
   ],
   "source": [
    "continueList = [1, 2, 3, 4]\n",
    "\n",
    "for number in continueList:\n",
    "    print(\"\") # Print an empty line to make our output easier to read\n",
    "    print(\"Current number:\")\n",
    "    print(number)\n",
    "    if number % 2 != 0:\n",
    "        print(\"odd number!  Going to next number\")\n",
    "        continue\n",
    "    print(\"even number!  Here is that number squared:\")\n",
    "    print(number ** 2)"
   ]
  },
  {
   "cell_type": "markdown",
   "id": "9e61ceb0-da97-41ab-b094-479692d0116d",
   "metadata": {},
   "source": [
    "See how when our loop finds and odd number, the code afterwards inside the block isnt executed?  We return to the `for` statement and move on to the next number in the list!  That's what the continue statement does, it stops all execution on the current iteration and moves to the next iteration immediately.  "
   ]
  },
  {
   "cell_type": "markdown",
   "id": "523fbf89-9b71-4d36-a992-dbd45529f303",
   "metadata": {},
   "source": [
    "## Exercises\n",
    "Q1: Write some code which iterates over the given list and prints \"even\" if the number given is even and \"odd\" if not (hint, use the % operator)\n",
    "\n",
    "`nums = [1, 2, 3, 4, 5, 6]`\n",
    "<details>\n",
    "<summary>Answer</summary>\n",
    "\n",
    "Code:<br>\n",
    "```\n",
    "for num in nums:\n",
    "    if num % 2 == 0:\n",
    "        print(\"even\")\n",
    "    else:\n",
    "        print(\"odd\")\n",
    "```\n",
    "\n",
    "OR\n",
    "\n",
    "```\n",
    "for num in nums:\n",
    "    if num % 2 == 0:\n",
    "        print(\"even\")\n",
    "        continue\n",
    "    print(\"odd\")\n",
    "```\n",
    "<br>    \n",
    "</details>\n",
    "<br>\n",
    "\n",
    "\n",
    "Q2: Write some code which takes the given list, and replaces the value of the element `'Thomas'` with `'Tom'`\n",
    "\n",
    "`names = ['Tim', 'Thomas', 'Clara', 'Sandra']`\n",
    "\n",
    "<details>\n",
    "<summary>Answer</summary>\n",
    "\n",
    "Code:<br>\n",
    "```\n",
    "for index in range(len(names)):\n",
    "    if names[index] == 'Thomas':\n",
    "        names[index] = 'Tom'\n",
    "```\n",
    "<br>    \n",
    "</details>\n",
    "<br>"
   ]
  },
  {
   "cell_type": "code",
   "execution_count": 28,
   "id": "0b81a4ee-b4d9-499c-9d67-44f7c951493c",
   "metadata": {},
   "outputs": [],
   "source": [
    "nums = [1, 2, 3, 4, 5, 6]\n"
   ]
  },
  {
   "cell_type": "code",
   "execution_count": 29,
   "id": "d9ce7468-3f13-4012-9f8b-1b211eb31531",
   "metadata": {},
   "outputs": [
    {
     "name": "stdout",
     "output_type": "stream",
     "text": [
      "['Tim', 'Tom', 'Clara', 'Sandra']\n"
     ]
    }
   ],
   "source": [
    "names = ['Tim', 'Thomas', 'Clara', 'Sandra']\n",
    "\n",
    "#### YOUR CODE HERE ####\n",
    "\n",
    "print(names)"
   ]
  },
  {
   "cell_type": "code",
   "execution_count": null,
   "id": "0ba9f241-2c67-4fdf-8ba1-275c74291fd0",
   "metadata": {},
   "outputs": [],
   "source": []
  }
 ],
 "metadata": {
  "kernelspec": {
   "display_name": "Python 3 (ipykernel)",
   "language": "python",
   "name": "python3"
  },
  "language_info": {
   "codemirror_mode": {
    "name": "ipython",
    "version": 3
   },
   "file_extension": ".py",
   "mimetype": "text/x-python",
   "name": "python",
   "nbconvert_exporter": "python",
   "pygments_lexer": "ipython3",
   "version": "3.13.5"
  }
 },
 "nbformat": 4,
 "nbformat_minor": 5
}
