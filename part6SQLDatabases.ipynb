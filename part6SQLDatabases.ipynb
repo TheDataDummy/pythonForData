{
 "cells": [
  {
   "cell_type": "markdown",
   "id": "604f7029-34ec-42be-908e-7fcc80083bfa",
   "metadata": {},
   "source": [
    "# SQL Databases "
   ]
  },
  {
   "cell_type": "markdown",
   "id": "0169e874-f930-46b6-a0be-1e55024e7e7c",
   "metadata": {},
   "source": [
    "__This module is not a guide on SQL queries or DDL operations, it is simply a guide on how to connect and issue commands to several of the more popular free and open source databases options available.__\n",
    "\n",
    "For this module we will be using the [chinook database](https://github.com/lerocha/chinook-database) which, according to the project's readme file, represents a digital media store, including tables for artists, albums, media tracks, invoices and customers.\n",
    "\n",
    "### Connecting to a databse\n",
    "In order to connect to a SQL database with python we first need to import the appropriate python module for the database type.  In this case, we are going to begin with a __SQLite__ database, so we will import the `sqlite3` package."
   ]
  },
  {
   "cell_type": "code",
   "execution_count": 2,
   "id": "2d0c32f2-036d-48fd-8a2c-5c3375f63b76",
   "metadata": {},
   "outputs": [],
   "source": [
    "import sqlite3"
   ]
  },
  {
   "cell_type": "markdown",
   "id": "f1f7b878-62d7-4353-bdae-c1f1bcb405d4",
   "metadata": {},
   "source": [
    "From here, we need to open a connection to the database by using the `sqlite3.connect` method, and giving the method a `path` to our database."
   ]
  },
  {
   "cell_type": "code",
   "execution_count": 6,
   "id": "5405b097-8e82-4e96-8c1c-9fd6054653e8",
   "metadata": {},
   "outputs": [],
   "source": [
    "connection = sqlite3.connect(\"data/Chinook_Sqlite.sqlite\")"
   ]
  },
  {
   "cell_type": "markdown",
   "id": "3b3a3455-2045-49e5-89c8-b62c4cb977ed",
   "metadata": {},
   "source": [
    "Our `con` variable is a `connection` object, and represents the connection to our sqlite database.  In order to run commands against this database, we need to use a `cursor`.  A cursor is an object which we can use to run commands on our database through our `connection` object."
   ]
  },
  {
   "cell_type": "code",
   "execution_count": 7,
   "id": "0a65749d-5dcd-48f3-a936-19b215ae6e3c",
   "metadata": {},
   "outputs": [],
   "source": [
    "cursor = connection.cursor()"
   ]
  },
  {
   "cell_type": "markdown",
   "id": "b8aaec87-e498-4f12-bccb-dc25b267a432",
   "metadata": {},
   "source": [
    "Now that we have our cursor object, we are ready to run some queries against our database!  There's just one problem.  We don't really know what's in the database!  Let's take a look at the data model image below to see what tables there are and how they are related:\n",
    "\n",
    "![data model image](https://private-user-images.githubusercontent.com/135025/299867754-cea7a05a-5c36-40cd-84c7-488307a123f4.png?jwt=eyJ0eXAiOiJKV1QiLCJhbGciOiJIUzI1NiJ9.eyJpc3MiOiJnaXRodWIuY29tIiwiYXVkIjoicmF3LmdpdGh1YnVzZXJjb250ZW50LmNvbSIsImtleSI6ImtleTUiLCJleHAiOjE3NTQ5Mjk1NjEsIm5iZiI6MTc1NDkyOTI2MSwicGF0aCI6Ii8xMzUwMjUvMjk5ODY3NzU0LWNlYTdhMDVhLTVjMzYtNDBjZC04NGM3LTQ4ODMwN2ExMjNmNC5wbmc_WC1BbXotQWxnb3JpdGhtPUFXUzQtSE1BQy1TSEEyNTYmWC1BbXotQ3JlZGVudGlhbD1BS0lBVkNPRFlMU0E1M1BRSzRaQSUyRjIwMjUwODExJTJGdXMtZWFzdC0xJTJGczMlMkZhd3M0X3JlcXVlc3QmWC1BbXotRGF0ZT0yMDI1MDgxMVQxNjIxMDFaJlgtQW16LUV4cGlyZXM9MzAwJlgtQW16LVNpZ25hdHVyZT05YTZjZGVkNDRkZjM5YTQxMjM0NDQ1OWQwNTk4ODcyYTBkNWVmNzE4NDlhOGZhODhjMmE1YzQyMDZhNThkZTU2JlgtQW16LVNpZ25lZEhlYWRlcnM9aG9zdCJ9.bArCxr9hqPOCVb6XhwZWdefyrqCwUaDEA90ZRkRHK_I)"
   ]
  },
  {
   "cell_type": "markdown",
   "id": "5813c572-89b2-4e88-bed5-bd18029ec712",
   "metadata": {},
   "source": [
    "Excellent!  Now that we know what we're working with, we can begin working with the data.  Let's first try pulling some rows from the `Track` table and learn how the `cursor` object functions a little bit.\n",
    "\n",
    "In order to issue a query to the database using the `cursor` we will make use of the `cursor.execute()` command."
   ]
  },
  {
   "cell_type": "code",
   "execution_count": 8,
   "id": "48bb8355-9ce0-40af-84aa-c1f866d591ff",
   "metadata": {},
   "outputs": [
    {
     "data": {
      "text/plain": [
       "<sqlite3.Cursor at 0x1672afed4c0>"
      ]
     },
     "execution_count": 8,
     "metadata": {},
     "output_type": "execute_result"
    }
   ],
   "source": [
    "cursor.execute(\"SELECT * FROM Track limit 5\")"
   ]
  },
  {
   "cell_type": "markdown",
   "id": "d5b224c3-f710-4000-828e-2bf2b06f20f3",
   "metadata": {},
   "source": [
    "We did it!  But where are the results of our query?  \n",
    "\n",
    "They are _in_ the `cursor` object!  When you execute a query against the database using the `cursor` object, python stores the response from the SQLite database in the cursor object and we must retrieve it from there in order to see the results!\n",
    "\n",
    "In order to get the results from the `cursor` object, we use another method called `fetchall()`.  Let's call that method on our `cursor` to see our query's results."
   ]
  },
  {
   "cell_type": "code",
   "execution_count": 9,
   "id": "75864aa4-be38-4871-8dcf-85ae2bb33b96",
   "metadata": {},
   "outputs": [
    {
     "data": {
      "text/plain": [
       "[(1,\n",
       "  'For Those About To Rock (We Salute You)',\n",
       "  1,\n",
       "  1,\n",
       "  1,\n",
       "  'Angus Young, Malcolm Young, Brian Johnson',\n",
       "  343719,\n",
       "  11170334,\n",
       "  0.99),\n",
       " (2, 'Balls to the Wall', 2, 2, 1, None, 342562, 5510424, 0.99),\n",
       " (3,\n",
       "  'Fast As a Shark',\n",
       "  3,\n",
       "  2,\n",
       "  1,\n",
       "  'F. Baltes, S. Kaufman, U. Dirkscneider & W. Hoffman',\n",
       "  230619,\n",
       "  3990994,\n",
       "  0.99),\n",
       " (4,\n",
       "  'Restless and Wild',\n",
       "  3,\n",
       "  2,\n",
       "  1,\n",
       "  'F. Baltes, R.A. Smith-Diesel, S. Kaufman, U. Dirkscneider & W. Hoffman',\n",
       "  252051,\n",
       "  4331779,\n",
       "  0.99),\n",
       " (5,\n",
       "  'Princess of the Dawn',\n",
       "  3,\n",
       "  2,\n",
       "  1,\n",
       "  'Deaffy & R.A. Smith-Diesel',\n",
       "  375418,\n",
       "  6290521,\n",
       "  0.99)]"
      ]
     },
     "execution_count": 9,
     "metadata": {},
     "output_type": "execute_result"
    }
   ],
   "source": [
    "cursor.fetchall()"
   ]
  },
  {
   "cell_type": "markdown",
   "id": "46fe295f-5e0c-40cf-9589-a4e69ee01c96",
   "metadata": {},
   "source": [
    "Awesome!  We got data!  But it isn't very pretty to look at, is it?  In fact.. It doesn't even include column names!  Now, there is a lot we can do with just this `cursor` object to format and clean this data up, but a much _easier_ approach is to simply use `pandas`!  \n",
    "\n",
    "That's right, the pandas module contains out of the box functionality for executing SQL queries with a database `connection` object!  Let's run the same query using the pandas `read_sql_query` method and see how our output looks."
   ]
  },
  {
   "cell_type": "code",
   "execution_count": 12,
   "id": "b002914d-d71d-416c-bec4-cd3068abb8d2",
   "metadata": {},
   "outputs": [
    {
     "data": {
      "text/html": [
       "<div>\n",
       "<style scoped>\n",
       "    .dataframe tbody tr th:only-of-type {\n",
       "        vertical-align: middle;\n",
       "    }\n",
       "\n",
       "    .dataframe tbody tr th {\n",
       "        vertical-align: top;\n",
       "    }\n",
       "\n",
       "    .dataframe thead th {\n",
       "        text-align: right;\n",
       "    }\n",
       "</style>\n",
       "<table border=\"1\" class=\"dataframe\">\n",
       "  <thead>\n",
       "    <tr style=\"text-align: right;\">\n",
       "      <th></th>\n",
       "      <th>TrackId</th>\n",
       "      <th>Name</th>\n",
       "      <th>AlbumId</th>\n",
       "      <th>MediaTypeId</th>\n",
       "      <th>GenreId</th>\n",
       "      <th>Composer</th>\n",
       "      <th>Milliseconds</th>\n",
       "      <th>Bytes</th>\n",
       "      <th>UnitPrice</th>\n",
       "    </tr>\n",
       "  </thead>\n",
       "  <tbody>\n",
       "    <tr>\n",
       "      <th>0</th>\n",
       "      <td>1</td>\n",
       "      <td>For Those About To Rock (We Salute You)</td>\n",
       "      <td>1</td>\n",
       "      <td>1</td>\n",
       "      <td>1</td>\n",
       "      <td>Angus Young, Malcolm Young, Brian Johnson</td>\n",
       "      <td>343719</td>\n",
       "      <td>11170334</td>\n",
       "      <td>0.99</td>\n",
       "    </tr>\n",
       "    <tr>\n",
       "      <th>1</th>\n",
       "      <td>2</td>\n",
       "      <td>Balls to the Wall</td>\n",
       "      <td>2</td>\n",
       "      <td>2</td>\n",
       "      <td>1</td>\n",
       "      <td>None</td>\n",
       "      <td>342562</td>\n",
       "      <td>5510424</td>\n",
       "      <td>0.99</td>\n",
       "    </tr>\n",
       "    <tr>\n",
       "      <th>2</th>\n",
       "      <td>3</td>\n",
       "      <td>Fast As a Shark</td>\n",
       "      <td>3</td>\n",
       "      <td>2</td>\n",
       "      <td>1</td>\n",
       "      <td>F. Baltes, S. Kaufman, U. Dirkscneider &amp; W. Ho...</td>\n",
       "      <td>230619</td>\n",
       "      <td>3990994</td>\n",
       "      <td>0.99</td>\n",
       "    </tr>\n",
       "    <tr>\n",
       "      <th>3</th>\n",
       "      <td>4</td>\n",
       "      <td>Restless and Wild</td>\n",
       "      <td>3</td>\n",
       "      <td>2</td>\n",
       "      <td>1</td>\n",
       "      <td>F. Baltes, R.A. Smith-Diesel, S. Kaufman, U. D...</td>\n",
       "      <td>252051</td>\n",
       "      <td>4331779</td>\n",
       "      <td>0.99</td>\n",
       "    </tr>\n",
       "    <tr>\n",
       "      <th>4</th>\n",
       "      <td>5</td>\n",
       "      <td>Princess of the Dawn</td>\n",
       "      <td>3</td>\n",
       "      <td>2</td>\n",
       "      <td>1</td>\n",
       "      <td>Deaffy &amp; R.A. Smith-Diesel</td>\n",
       "      <td>375418</td>\n",
       "      <td>6290521</td>\n",
       "      <td>0.99</td>\n",
       "    </tr>\n",
       "  </tbody>\n",
       "</table>\n",
       "</div>"
      ],
      "text/plain": [
       "   TrackId                                     Name  AlbumId  MediaTypeId  \\\n",
       "0        1  For Those About To Rock (We Salute You)        1            1   \n",
       "1        2                        Balls to the Wall        2            2   \n",
       "2        3                          Fast As a Shark        3            2   \n",
       "3        4                        Restless and Wild        3            2   \n",
       "4        5                     Princess of the Dawn        3            2   \n",
       "\n",
       "   GenreId                                           Composer  Milliseconds  \\\n",
       "0        1          Angus Young, Malcolm Young, Brian Johnson        343719   \n",
       "1        1                                               None        342562   \n",
       "2        1  F. Baltes, S. Kaufman, U. Dirkscneider & W. Ho...        230619   \n",
       "3        1  F. Baltes, R.A. Smith-Diesel, S. Kaufman, U. D...        252051   \n",
       "4        1                         Deaffy & R.A. Smith-Diesel        375418   \n",
       "\n",
       "      Bytes  UnitPrice  \n",
       "0  11170334       0.99  \n",
       "1   5510424       0.99  \n",
       "2   3990994       0.99  \n",
       "3   4331779       0.99  \n",
       "4   6290521       0.99  "
      ]
     },
     "execution_count": 12,
     "metadata": {},
     "output_type": "execute_result"
    }
   ],
   "source": [
    "import pandas as pd\n",
    "df = pd.read_sql_query(\"SELECT * FROM Track limit 5\", connection)\n",
    "df"
   ]
  },
  {
   "cell_type": "markdown",
   "id": "6d458350-7ad8-409b-b794-f9ca4b316498",
   "metadata": {},
   "source": [
    "That's much better!  We have the column names and everything in a nice and neat, easy to read `pandas` dataframe just like that!\n",
    "\n",
    "The last thing we need to do is `close` the database connection when we are done using it."
   ]
  },
  {
   "cell_type": "code",
   "execution_count": 13,
   "id": "2a006621-dc39-47d3-bbb2-2024699ccb05",
   "metadata": {},
   "outputs": [],
   "source": [
    "connection.close()"
   ]
  },
  {
   "cell_type": "markdown",
   "id": "655569b4-9271-4e83-9bfb-1f420485efd3",
   "metadata": {},
   "source": [
    "It's important to `close` connections when we are done with them because some databses hold connections open until they are told explicitly to close them.  This often won't cause problems for a solo developer, but when you are part of a large team all working on the same database, it can become an issue when that database has no available connections because everyone left their old connections open! \n",
    "\n",
    "Since this module is just about connecting to and issuing commands to SQL databases, we have already reached the end!  There are a couple more things to go over, but they are entirely optional, and you are free to skip ahead to the final module at this point unless you are curious about how to use other types of databases."
   ]
  },
  {
   "cell_type": "markdown",
   "id": "e956d8d5-ad91-48cf-b1a9-f4d2befa7e48",
   "metadata": {},
   "source": [
    "### Pandas under the hood\n",
    "Which types of SQL databases can `pandas` work with directly using methods like `read_sql_query`?\n",
    "\n",
    "Under the hood Pandas uses something called SQLAlchemy to work with SQL databases.  Because of this, `pandas` can work with any of the databases that SQLAlchemy has native support for:\n",
    "- SQLite\n",
    "- PostgreSQL\n",
    "- MySQL and MariaDB\n",
    "- Oracle\n",
    "- Microsoft SQL Server\n",
    "\n"
   ]
  },
  {
   "cell_type": "code",
   "execution_count": null,
   "id": "0195e584-0d20-4e3f-bb9b-58a980987a8d",
   "metadata": {},
   "outputs": [],
   "source": []
  }
 ],
 "metadata": {
  "kernelspec": {
   "display_name": "Python 3 (ipykernel)",
   "language": "python",
   "name": "python3"
  },
  "language_info": {
   "codemirror_mode": {
    "name": "ipython",
    "version": 3
   },
   "file_extension": ".py",
   "mimetype": "text/x-python",
   "name": "python",
   "nbconvert_exporter": "python",
   "pygments_lexer": "ipython3",
   "version": "3.13.5"
  }
 },
 "nbformat": 4,
 "nbformat_minor": 5
}
