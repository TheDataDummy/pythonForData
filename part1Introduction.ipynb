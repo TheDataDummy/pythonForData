{
 "cells": [
  {
   "cell_type": "markdown",
   "id": "0b3626b7-d1bc-406f-ad11-67b910042c68",
   "metadata": {},
   "source": [
    "# Part 1: Introduction\n",
    "\n",
    "## Setup: ipykernel\n",
    "\n",
    "In order to execute code in a Jupyter notebook we need to connect our Conda environment to the notebook, we do this using what's called a Python kernel.  In Jupyter notebooks, a Python kernel is the computational engine that executes Python code within a notebook.  In order to do so we need to install the ipykernel package!  \n",
    "\n",
    "Open a new Anaconda Prompt or terminal (mac) and execute the following command\n",
    "\n",
    "`python -m ipykernel install --user --name=dataEnv`\n",
    "\n",
    "Once you've done that, refresh this page, then select the Kernel titled \"dataEnv\" from the top right of the Jupyter lab UI!\n",
    "\n",
    "![alt text](images/kernel.png \"Kernel Selector\")\n",
    "\n",
    "![alt text](images/dataEnvKernel.png \"Kernel Selection\")\n"
   ]
  },
  {
   "cell_type": "markdown",
   "id": "e26e155e-8397-4d6e-8a0e-5f07e416ca30",
   "metadata": {},
   "source": [
    "## Expressions\n",
    "\n",
    "An expression is sort of like a formula, it's the building block of essentially all code.  Expressions are made up of values and operators, much like formulas you may have seen in Algebra in high school.  \n",
    "\n",
    ">Example of a simple expression\n",
    ">\n",
    ">`2 + 2`\n",
    "\n",
    "Expressions _evaluate_ down to a single value.  Essentially what that means is that once all of the operations defined in the expression have executed, the user is left with a singular value at the end of it.  \n",
    "\n",
    ">Example of slightly more complicated expression\n",
    ">\n",
    ">`4 * (2 + 2)`\n",
    ">\n",
    ">Evaluates to:\n",
    ">\n",
    ">`4 * (4)`\n",
    ">\n",
    ">=`16`\n",
    "\n",
    "Let's try executing some expressions in the code blocks right below this:"
   ]
  },
  {
   "cell_type": "code",
   "execution_count": 1,
   "id": "3d1667b8-0fcf-4822-b513-96bbf886f981",
   "metadata": {},
   "outputs": [
    {
     "data": {
      "text/plain": [
       "4"
      ]
     },
     "execution_count": 1,
     "metadata": {},
     "output_type": "execute_result"
    }
   ],
   "source": [
    "2 + 2"
   ]
  },
  {
   "cell_type": "code",
   "execution_count": 4,
   "id": "d3100695-e195-45c3-be58-7469bce5d02b",
   "metadata": {},
   "outputs": [
    {
     "data": {
      "text/plain": [
       "16"
      ]
     },
     "execution_count": 4,
     "metadata": {},
     "output_type": "execute_result"
    }
   ],
   "source": [
    "4 * (2 + 2)"
   ]
  },
  {
   "cell_type": "markdown",
   "id": "efbd5389-570a-46d5-9daa-a2e77b7236cd",
   "metadata": {},
   "source": [
    "No surprise there, but we got exactly the results we expected!\n",
    "\n",
    "We can do even more complicated things wtih expressions than simple addition and multiplication, of course.  Check out the table below of some of the mathematical operators we can use in Python:\n",
    "\n",
    "| Operator | Operation| Example |\n",
    "| -------- | -------- |-------- |\n",
    "|* | multiplication | `2 * 2` = 4 |\n",
    "| + | addition | `2 + 5` = 7 |\n",
    "| - | subtraction | `10 - 4` = 6 |\n",
    "| **  | exponent    | `3**3` = 27\n",
    "| % | remainder | `10 % 4` = 2 |\n",
    "| //    | intiger division    | `27 // 7` = 3 |"
   ]
  },
  {
   "cell_type": "markdown",
   "id": "c07a1734-2b0d-49a6-b35a-e677fca908ee",
   "metadata": {},
   "source": [
    "## Data Types\n",
    "\n",
    "A data type is exactly what it sounds like, it is a category for a _value_ in Python.\n",
    "\n",
    "There are lots of different data types, but we'll just start with a few which are built in to the Python language itself:\n",
    "\n",
    "_Note: I am intentionally skipping over some types such as complex which are not relevant to this course, this list is not exhaustive_\n",
    "\n",
    "### Numeric Data Types:\n",
    "1. int: discrete integer values (whole numbers, e.g. 2, 5, -10)\n",
    "2. float: floating point numbers (decimal numbers, e.g. 1.22, 10.0, -55.999999)\n",
    "\n",
    "There are lots of things we can do with the numeric data types using the operators we showed above, as you might expect.  But it is important for us to remember that there are some interesting thing that happen when we use floats vs ints, or when we mix the two numeric data types in an expression.\n",
    "\n",
    "For instance, when we divide two integers, we do not get an integer value back, instead we get a float, even if the integers would have divided cleanly into another integer with no remainder:"
   ]
  },
  {
   "cell_type": "code",
   "execution_count": 6,
   "id": "1c974d4e-a9a1-4c38-b551-9e673adb83d3",
   "metadata": {},
   "outputs": [
    {
     "data": {
      "text/plain": [
       "4.0"
      ]
     },
     "execution_count": 6,
     "metadata": {},
     "output_type": "execute_result"
    }
   ],
   "source": [
    "16 / 4"
   ]
  },
  {
   "cell_type": "markdown",
   "id": "20bf6af9-4997-4b15-a62e-28d87393f88d",
   "metadata": {},
   "source": [
    "Notice how the output above shows `4.0` instead of `4`?  Despite feeding this expression two integer values, we got back a float value.  That's not the only interesting interaction.  Whenever we mix integers and floats together into one expression, the integer is implicitly converted to a float and the result is a float as well:"
   ]
  },
  {
   "cell_type": "code",
   "execution_count": 7,
   "id": "f9a88c21-30aa-4b70-a0a9-fa3ffa596e49",
   "metadata": {},
   "outputs": [
    {
     "data": {
      "text/plain": [
       "12.0"
      ]
     },
     "execution_count": 7,
     "metadata": {},
     "output_type": "execute_result"
    }
   ],
   "source": [
    "8.0 + 4"
   ]
  },
  {
   "cell_type": "markdown",
   "id": "1716b528-a892-4bac-9fd0-1539f2446dca",
   "metadata": {},
   "source": [
    "Speaking of value conversion, we can also convert values from one type to another int -> float or float -> int.  When converting an integer to float, we don't lose anything of value, because there is no decimal value to keep track of, but when we convert float to int, the result is a _truncated_ value.  That just means that the decimal part is totally chopped off, leaving only the integer value like this:"
   ]
  },
  {
   "cell_type": "code",
   "execution_count": 8,
   "id": "5ece52bb-24f8-406b-98c8-242aa570fdd6",
   "metadata": {},
   "outputs": [
    {
     "data": {
      "text/plain": [
       "3"
      ]
     },
     "execution_count": 8,
     "metadata": {},
     "output_type": "execute_result"
    }
   ],
   "source": [
    "int(3.4)"
   ]
  },
  {
   "cell_type": "code",
   "execution_count": 9,
   "id": "d9b6fefd-2bd5-43db-b05a-c4df436f1014",
   "metadata": {},
   "outputs": [
    {
     "data": {
      "text/plain": [
       "-3"
      ]
     },
     "execution_count": 9,
     "metadata": {},
     "output_type": "execute_result"
    }
   ],
   "source": [
    "int(-3.4)"
   ]
  },
  {
   "cell_type": "markdown",
   "id": "84a3554b-39b0-4e90-b86e-40051f3e764b",
   "metadata": {},
   "source": [
    "There are lots of other more complicated and interesting quirks of working with numeric data types in Python, but for now, this should suffice for an introduction.  "
   ]
  },
  {
   "cell_type": "markdown",
   "id": "dfd4c698-7ef2-4de6-8ea3-ccbc99f79e86",
   "metadata": {},
   "source": [
    "### Strings\n",
    "\n",
    "In Python, a string is simply a sequence of characters. Strings are defined in python using single or double quotes at their beginning and end like so:"
   ]
  },
  {
   "cell_type": "code",
   "execution_count": 12,
   "id": "ae13890b-7180-48bf-bb27-cfa8f0b81ec2",
   "metadata": {},
   "outputs": [
    {
     "data": {
      "text/plain": [
       "'Hello World!'"
      ]
     },
     "execution_count": 12,
     "metadata": {},
     "output_type": "execute_result"
    }
   ],
   "source": [
    "# Double Quotes\n",
    "\"Hello World!\" "
   ]
  },
  {
   "cell_type": "code",
   "execution_count": 13,
   "id": "2d97043d-2ae6-40f8-834c-219fc1876054",
   "metadata": {},
   "outputs": [
    {
     "data": {
      "text/plain": [
       "'Hello World!'"
      ]
     },
     "execution_count": 13,
     "metadata": {},
     "output_type": "execute_result"
    }
   ],
   "source": [
    "# Single Quotes\n",
    "'Hello World!'"
   ]
  },
  {
   "cell_type": "markdown",
   "id": "68aa6bf5-db84-4014-b5b1-7f0f0971c99b",
   "metadata": {},
   "source": [
    "Strings are an incredibly powerful and common data type that you will see when working with Python, and there are lots of neat things you can do with them by using some of the operators we defined above.  We can __concatenate__ or join together two strings using the `+` operator like so:"
   ]
  },
  {
   "cell_type": "code",
   "execution_count": 14,
   "id": "fc2d03ca-c87d-4938-81b2-6b26acd4985b",
   "metadata": {},
   "outputs": [
    {
     "data": {
      "text/plain": [
       "'Chickennuggets'"
      ]
     },
     "execution_count": 14,
     "metadata": {},
     "output_type": "execute_result"
    }
   ],
   "source": [
    "'Chicken' + 'nuggets'"
   ]
  },
  {
   "cell_type": "markdown",
   "id": "d16b954b-da54-42d8-8a3b-715e00516984",
   "metadata": {},
   "source": [
    "We can also __replicate__ strings by multiplying them by __integers__ (note this does not work for floats):"
   ]
  },
  {
   "cell_type": "code",
   "execution_count": 15,
   "id": "da44fb64-7b20-4158-85b7-314ae8ae1e4d",
   "metadata": {},
   "outputs": [
    {
     "data": {
      "text/plain": [
       "'ChickenChickenChickenChickenChicken'"
      ]
     },
     "execution_count": 15,
     "metadata": {},
     "output_type": "execute_result"
    }
   ],
   "source": [
    "'Chicken' * 5"
   ]
  },
  {
   "cell_type": "code",
   "execution_count": 16,
   "id": "fe7a42d3-3b63-44f3-848a-1ab4388db0eb",
   "metadata": {},
   "outputs": [
    {
     "ename": "TypeError",
     "evalue": "can't multiply sequence by non-int of type 'float'",
     "output_type": "error",
     "traceback": [
      "\u001b[1;31m---------------------------------------------------------------------------\u001b[0m",
      "\u001b[1;31mTypeError\u001b[0m                                 Traceback (most recent call last)",
      "Cell \u001b[1;32mIn[16], line 1\u001b[0m\n\u001b[1;32m----> 1\u001b[0m \u001b[38;5;124m'\u001b[39m\u001b[38;5;124mChicken\u001b[39m\u001b[38;5;124m'\u001b[39m \u001b[38;5;241m*\u001b[39m \u001b[38;5;241m5.0\u001b[39m\n",
      "\u001b[1;31mTypeError\u001b[0m: can't multiply sequence by non-int of type 'float'"
     ]
    }
   ],
   "source": [
    "# This code block with throw an error!  That's okay, we're expecting an error here.\n",
    "'Chicken' * 5.0"
   ]
  },
  {
   "cell_type": "markdown",
   "id": "1ba0b414-1628-4b59-b972-097810605b5c",
   "metadata": {},
   "source": [
    "## Variables\n",
    "\n",
    "A variable is a __container__ with a name for storing values. Essentially it allows us to store a value and reference that value later by invoking the name of the variable!  Check out this example to see how it works:"
   ]
  },
  {
   "cell_type": "code",
   "execution_count": 18,
   "id": "200ec179-8afd-44c9-871b-9025b36fd114",
   "metadata": {},
   "outputs": [
    {
     "data": {
      "text/plain": [
       "42"
      ]
     },
     "execution_count": 18,
     "metadata": {},
     "output_type": "execute_result"
    }
   ],
   "source": [
    "myCoolVariable = 42\n",
    "myCoolVariable"
   ]
  },
  {
   "cell_type": "markdown",
   "id": "5d55da5a-2063-44a1-98a4-ef91debc380b",
   "metadata": {},
   "source": [
    "We were able to store the integer __value__ `42` inside the variable called `myCoolVariable` and __reference__ it directly afterward by name to retrieve the value we stored it in.  Pretty neat!  Althought it might not seem super useful with this simple use case, we can also do arethmetic on variable values."
   ]
  },
  {
   "cell_type": "code",
   "execution_count": 19,
   "id": "3794624d-725f-44c7-a473-829edd4e2bd9",
   "metadata": {},
   "outputs": [
    {
     "data": {
      "text/plain": [
       "52"
      ]
     },
     "execution_count": 19,
     "metadata": {},
     "output_type": "execute_result"
    }
   ],
   "source": [
    "myCoolVariable = 42\n",
    "myCoolVariable + 10"
   ]
  },
  {
   "cell_type": "markdown",
   "id": "56b49bc0-87b3-45aa-bf1a-01bae7da3075",
   "metadata": {},
   "source": [
    "In this case we retrieve the value from our variable, and add 10 to it using an expression which evaluates to `52`!  We can do the same with 2 or more variables in an expression like we did above.  Variables are just references to the values that we chose to store within them!  \n",
    "\n",
    "We can also _change_ or _update_ the values inside variables like so:"
   ]
  },
  {
   "cell_type": "code",
   "execution_count": 20,
   "id": "e9e363b9-878c-402f-b8d2-9206b3341e77",
   "metadata": {},
   "outputs": [
    {
     "name": "stdout",
     "output_type": "stream",
     "text": [
      "42\n",
      "52\n"
     ]
    }
   ],
   "source": [
    "myCoolVariable = 42\n",
    "print(myCoolVariable)\n",
    "\n",
    "myCoolVariable = 52\n",
    "print(myCoolVariable)"
   ]
  },
  {
   "cell_type": "markdown",
   "id": "5eb0db25-ad9b-47b4-aebf-6897f3db17d0",
   "metadata": {},
   "source": [
    "In this case, we first store the value `42` inside the variable `myCoolVariable`, then we retrieve the value with the print statement.  From there we then _replace_ the value within `myCoolVariable` to instead be `52`, which you can see is what we get when we call the same print statement at the end of the code block!\n",
    "\n",
    "### Variable naming rules\n",
    "There are certain rules we have to follow when naming our variables, however.  \n",
    "\n",
    "We cannot name variables in the following ways or we will get an error:\n",
    ">Variables starting with numbers, e.g. `1testData =`\n",
    ">\n",
    ">Variables with spaces, e.g. `home address`\n",
    ">\n",
    ">Variables with special characters, e.g. `turtleBe@ch`\n",
    ">\n",
    ">Variables with hyphens, e.g. `date-of-birth` (we can use underscores though, e.g. `date_of_birth` this is called snake-case)\n",
    "\n",
    "Secondly, it's important to name your variables descriptively.  It's no good to anyone to name your variables like this:\n",
    ">`x =`\n",
    ">\n",
    ">`xNewVar =`\n",
    ">\n",
    ">`varCdCrossL2`\n",
    "\n",
    "Try to be descriptive, so that anyone looking at your code will be able to intuitively determine what a variable is by looking at it's name.\n",
    "\n",
    ">`firstName =`\n",
    ">\n",
    ">`medianHomePrice =`\n",
    ">\n",
    ">`testDataLabels =`"
   ]
  },
  {
   "cell_type": "markdown",
   "id": "37827ce8-4110-4549-a9be-49d1030ef020",
   "metadata": {},
   "source": [
    "## Exercises\n",
    "Q1: Write some code which evaluates the following formula: $\\dfrac{18 + 22^2}{100 * (8 + 2)}$ \n",
    "<details>\n",
    "<summary>Answer</summary>\n",
    "\n",
    "Code:<br>\n",
    "`(18 + (22**2)) / (100 * (8 + 2))`<br>\n",
    "Output should be = 0.502\n",
    "    \n",
    "</details>\n",
    "<br>\n",
    "\n",
    "Q2: Write an expression which evaluates to the following output: `'ChickenNugget'` using the `+` operator\n",
    "<details>\n",
    "<summary>Answer</summary>\n",
    "\n",
    "Code:<br>\n",
    "`'Chicken' + 'Nugget'`<br>\n",
    "    \n",
    "</details>\n",
    "<br>\n",
    "\n",
    "Q3: Write an expression which evaluates to the following output: `'ChickenChickenNuggetNugget'` using the `+` operator and the `*` operator\n",
    "<details>\n",
    "<summary>Answer</summary>\n",
    "\n",
    "Code:<br>\n",
    "`'Chicken' * 2 + 'Nugget' * 2`<br>\n",
    "    \n",
    "</details>\n",
    "<br>"
   ]
  },
  {
   "cell_type": "code",
   "execution_count": 1,
   "id": "ff8ac703-84d2-4a91-8150-dee801759e21",
   "metadata": {},
   "outputs": [],
   "source": [
    "# Question 1"
   ]
  },
  {
   "cell_type": "code",
   "execution_count": 2,
   "id": "cfe2834d-7110-4f9a-9ccb-1dfeae34052e",
   "metadata": {},
   "outputs": [],
   "source": [
    "# Question 2"
   ]
  },
  {
   "cell_type": "code",
   "execution_count": 3,
   "id": "9b91bf3d-3792-457d-8cbf-55745d12a5ef",
   "metadata": {},
   "outputs": [],
   "source": [
    "# Question 3"
   ]
  }
 ],
 "metadata": {
  "kernelspec": {
   "display_name": "dataEnv",
   "language": "python",
   "name": "dataenv"
  },
  "language_info": {
   "codemirror_mode": {
    "name": "ipython",
    "version": 3
   },
   "file_extension": ".py",
   "mimetype": "text/x-python",
   "name": "python",
   "nbconvert_exporter": "python",
   "pygments_lexer": "ipython3",
   "version": "3.13.5"
  }
 },
 "nbformat": 4,
 "nbformat_minor": 5
}
