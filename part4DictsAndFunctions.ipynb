{
 "cells": [
  {
   "cell_type": "markdown",
   "id": "92a8dbe6-1924-4c35-ad0e-108909448d2b",
   "metadata": {},
   "source": [
    "# Dictionaries and Functions"
   ]
  },
  {
   "cell_type": "markdown",
   "id": "f42b1bcb-ce4a-44c7-8f49-2e6e3c036a50",
   "metadata": {},
   "source": [
    "## Dictionaries\n",
    "\n",
    "One of the most efficient and widely used data structures in programming is the hasp map.  Python has a built in data structure which is a hash map, but in Python this is called a `dictionary`. Dictionaries (and hash maps) are essentially like labeled filing cabinets. \n",
    "\n",
    "Imagine you have a filing cabinet with several drawers.  Each drawer has a label on the front (like \"Bills\", \"Receipts\", or \"Letters\").  Inside each drawer, you keep some information related to that label.\n",
    "\n",
    "In Python terms:\n",
    "\n",
    "The __label__ on the drawer is the `key`.\n",
    "\n",
    "The __contents__ inside the drawer are the `value`.\n",
    "\n",
    "So when you want to find your receipts, you don’t have to search every drawer — you just go straight to the one labeled \"Receipts\".  See the code block below for the syntax of python `dicts`:"
   ]
  },
  {
   "cell_type": "code",
   "execution_count": null,
   "id": "b6bf0fb6-9e73-443a-80e6-59f8b9ada17d",
   "metadata": {},
   "outputs": [],
   "source": [
    "filing_cabinet = {\n",
    "    \"bills\": [\"Electric\", \"Water\"],\n",
    "    \"receipts\": [\"Amazon\", \"Grocery Store\"],\n",
    "    \"letters\": [\"Grandma\", \"Bank\"]\n",
    "}"
   ]
  },
  {
   "cell_type": "markdown",
   "id": "6e9af57a-4596-4d78-9788-744d1d8b8846",
   "metadata": {},
   "source": [
    "To access a value from a dictionary you use a similar syntax to accessing a value inside a list.  For instance if we wanted to access the `receipts` value from this dict, we would do so like this:"
   ]
  },
  {
   "cell_type": "code",
   "execution_count": null,
   "id": "0e124e1a-aea9-44ef-a5ab-103ad55cd708",
   "metadata": {},
   "outputs": [],
   "source": [
    "filing_cabinet['receipts']"
   ]
  },
  {
   "cell_type": "markdown",
   "id": "ee79b6f8-f1ff-48ee-ac5c-2fad2579b167",
   "metadata": {},
   "source": [
    "Dictionaries are excellent when you want to store certain information by a named value, as opposed to in a list, where you must know its position in the list to retreive the value.  A great example of this is storing your friends' phone numbers.  If you know the name of the friend you'd like to call, you can simply look up their phone number by their name!"
   ]
  },
  {
   "cell_type": "code",
   "execution_count": null,
   "id": "29df39a0-5b0e-4ff4-911f-62886d83c411",
   "metadata": {},
   "outputs": [],
   "source": [
    "phoneNumbers = {\n",
    "    'tom': '800-244-2536',\n",
    "    'abby': '844-221-8846',\n",
    "    'grace': '799-988-8888'\n",
    "}\n",
    "\n",
    "personToCall = 'grace'\n",
    "\n",
    "print(phoneNumbers[personToCall])"
   ]
  },
  {
   "cell_type": "markdown",
   "id": "6f2a4b62-dd68-48df-98df-c79e664b55d7",
   "metadata": {},
   "source": [
    "One important distinction between lists and dictionaires is that lists are __ordered__ whereas dictionaries are not, meaning you cannot get the \"first\" or \"last\" or \"nth\" value of a dictionary, as it's elements have no inherent order.\n",
    "\n",
    "That being said, since Python version 3.7 Python does keep track of the order in which you insert items into the dictionary.  For this reason, if we __iterate__ over the elements in a dictionary, they will be returned to us in the order in which they were inserted.  Here's a few examples of every way you can iterate over a dictionary's elements! "
   ]
  },
  {
   "cell_type": "code",
   "execution_count": null,
   "id": "d203e9cb-7c0d-43cd-ad5f-cdb9e297f679",
   "metadata": {},
   "outputs": [],
   "source": [
    "# 1. By key\n",
    "for key in phoneNumbers.keys():\n",
    "    print(key)"
   ]
  },
  {
   "cell_type": "code",
   "execution_count": null,
   "id": "421c8a21-8532-4626-b526-dbb87f7d0453",
   "metadata": {},
   "outputs": [],
   "source": [
    "# 2. By value\n",
    "for value in phoneNumbers.values():\n",
    "    print(value)"
   ]
  },
  {
   "cell_type": "code",
   "execution_count": null,
   "id": "2192cadc-8ebc-4f5d-83ec-4317e0234322",
   "metadata": {},
   "outputs": [],
   "source": [
    "# 3. By both Key and Value\n",
    "for key, value in phoneNumbers.items():\n",
    "    print(key, value)"
   ]
  },
  {
   "cell_type": "markdown",
   "id": "a4b09b24-6b29-4d2f-962b-dc50b1cdb62b",
   "metadata": {},
   "source": [
    "You can see in each of these examples the items are returned to us in the same order we had them in originally!  This is pretty helpful, but generally we're not iterating over the items in a dictionary (though sometimes we are)!"
   ]
  },
  {
   "cell_type": "markdown",
   "id": "bb02c362-7256-4529-b99f-7c32fd2b7af9",
   "metadata": {},
   "source": [
    "Dictionaries (hash maps) are incredibly powerful, because they allow us to look up a value by its key incredibly quickly, which can be useful for lots of operations in many algorithms.  We won't get into it too deeply here, but if you are curious about how they work or why they are so fast check out [this video](https://www.youtube.com/watch?v=vJvqYFKXo5E&pp=ygUSd2hhdCBpcyBhIGhhc2ggbWFw])."
   ]
  },
  {
   "cell_type": "markdown",
   "id": "beb15a9d-2c6e-4ea5-882d-0c3cd8753070",
   "metadata": {},
   "source": [
    "## Functions\n",
    "\n",
    "Now we're really getting into the most interesting parts of programming (in my opinion).  `functions` are reusable pieces of code which we can call over and over using just one command instead of having to write the logic every single time!  We've actually already seen a couple of examples of functions that are `builtin` functions (like `len`, `range`), meaning they are a part of python.  But we can also define our own functions and call them by name as well!  \n",
    "\n",
    "The `len` and `range` functions we used earlier take `arguments` or values. With `len` you might recall we placed a variable which referenced a list in the parentheses after the function name, and the function returned the length of that list!  Functions don't all have to take `arguments` though.  Here's an example of how we can define a function (using the `def` keyword) which doesn't take any `arguments`:"
   ]
  },
  {
   "cell_type": "code",
   "execution_count": null,
   "id": "8ecd898b-15d8-4227-8df8-430448acf2cd",
   "metadata": {},
   "outputs": [],
   "source": [
    "def printHelloWorld():\n",
    "    print(\"Hello World\")\n",
    "\n",
    "printHelloWorld()\n",
    "printHelloWorld()\n",
    "printHelloWorld()"
   ]
  },
  {
   "cell_type": "markdown",
   "id": "3a2edf2b-9ccd-4e00-9361-1eb96da0ff82",
   "metadata": {},
   "source": [
    "You can see above we defined our function, and called it three times, which caused \"Hello World\" to be printed three times.  Functions (and classes) make up the building blocks of most modern programs, as they allow us to write code _once_ and use it _many times_ in similar, but different cases.  \n",
    "\n",
    "For an example, let's say we wanted to be able to quickly and easily perform the following operations on _thousands_ of individual numbers:\n",
    "1. Double the number\n",
    "2. Raise the result to the power of 2\n",
    "3. Divide the result by 10\n",
    "\n",
    "Without a function, we'd have something like this:"
   ]
  },
  {
   "cell_type": "code",
   "execution_count": null,
   "id": "283e858d-a0c4-41cb-ae9a-a1250801440a",
   "metadata": {},
   "outputs": [],
   "source": [
    "x = 10\n",
    "x = x * 2\n",
    "x = x ** 2\n",
    "x = x / 10\n",
    "print(x)\n",
    "\n",
    "y = 5\n",
    "y = y * 2\n",
    "y = y ** 2\n",
    "y = y / 10\n",
    "print(y)\n",
    "\n",
    "z = 2\n",
    "z = z * 2\n",
    "z = z ** 2\n",
    "z = z / 10\n",
    "print(z)"
   ]
  },
  {
   "cell_type": "markdown",
   "id": "816f8fc5-7c31-44c8-bcf6-d603ab57b804",
   "metadata": {},
   "source": [
    "Now, that seems kind of repetitve doesn't it?  And it would be impossible to reasonably do this for thousands of numbers, but what if we were to write a function?"
   ]
  },
  {
   "cell_type": "code",
   "execution_count": null,
   "id": "944fe475-a461-4292-b05f-f11377c3ba52",
   "metadata": {},
   "outputs": [],
   "source": [
    "def numberCruncher(number):\n",
    "    number = number * 2\n",
    "    number = number ** 2\n",
    "    number = number / 10\n",
    "    print(number)\n",
    "    return number ## The \"return\" keyword is how we can have the function give us a value back when we call it!\n",
    "\n",
    "x = 10\n",
    "x = numberCruncher(x)\n",
    "\n",
    "y = 5\n",
    "y = numberCruncher(y)\n",
    "\n",
    "z = 2\n",
    "z = numberCruncher(z)"
   ]
  },
  {
   "cell_type": "markdown",
   "id": "7433041c-889f-450b-a2dc-ac0d85352dff",
   "metadata": {},
   "source": [
    "See how much easier that is?  We could easily imagine feeding thousands of numbers into this function and getting all the results much more easily and quickly, having only written the core logic of the function once!\n",
    "\n",
    "The last thing to note about functions is the `return` statement.  As mentioned above in the comment, the return statement is how the function knows to pass a value back to whatever called it.  What we're doing in the above example is passing the function the numerical value from the variables `x`, `y`, and `z`, and then storing the new value from the function into the same variable as before!  \n",
    "\n",
    "> It's important to note: when a function is called, and the logic is being executed within it, whenever the function reaches a `return` statement, it returns whatever you have told it to, and ceases all execution at that point."
   ]
  },
  {
   "cell_type": "markdown",
   "id": "5722d295-55c2-46a4-9b96-3503baa3bb33",
   "metadata": {},
   "source": [
    "Q1: Write a function which takes an `int` as an argument and returns `True` if the number is even and `False` if it is not.\n",
    "\n",
    "<details>\n",
    "<summary>Answer</summary>\n",
    "\n",
    "Code:<br>\n",
    "```\n",
    "def isEven(number):\n",
    "    if number % 2 == 0:\n",
    "        return True\n",
    "    else:\n",
    "        return False\n",
    "```\n",
    "<br>    \n",
    "</details>\n",
    "<br>"
   ]
  },
  {
   "cell_type": "code",
   "execution_count": null,
   "id": "df9f2ce0-4c52-470d-b3b3-5c947dbeed86",
   "metadata": {},
   "outputs": [],
   "source": [
    "def isEven(number: int):\n",
    "    # your code here\n",
    "\n",
    "print(isEven(2))\n",
    "print(isEven(3))\n",
    "print(isEven(-25))"
   ]
  },
  {
   "cell_type": "code",
   "execution_count": null,
   "id": "ce17c047-84a3-41ba-8ed6-df0f585fab88",
   "metadata": {},
   "outputs": [],
   "source": []
  }
 ],
 "metadata": {
  "kernelspec": {
   "display_name": "Python 3 (ipykernel)",
   "language": "python",
   "name": "python3"
  },
  "language_info": {
   "codemirror_mode": {
    "name": "ipython",
    "version": 3
   },
   "file_extension": ".py",
   "mimetype": "text/x-python",
   "name": "python",
   "nbconvert_exporter": "python",
   "pygments_lexer": "ipython3",
   "version": "3.13.5"
  }
 },
 "nbformat": 4,
 "nbformat_minor": 5
}
