{
 "cells": [
  {
   "cell_type": "markdown",
   "id": "00edc453-333c-4d0c-a022-40deac4d58c3",
   "metadata": {},
   "source": [
    "# Packages/Libraries and Pandas "
   ]
  },
  {
   "cell_type": "markdown",
   "id": "4a31c79e-df77-47c9-9147-a0e59a543e3f",
   "metadata": {},
   "source": [
    "Perhaps the most powerful way to code is to leverage work that other (often incredibly smart) people have already done!  Every language has ways to do this, and those methods typicaly involve installing third party __packages__ (sometimes called libraries)\n",
    "\n",
    "Since we downloaded _anaconda_ in order to get Python on our machines, we already have a lot of third party packages installed (including pandas).  But if we wanted to install a third party package in our conda environment, you can do so by simply using the `conda install [PACKAGE NAME]` command in the terminal (osx) or conda prompt (windows).\n",
    "\n",
    "When we want to use a third party package we must first `import` it like so:"
   ]
  },
  {
   "cell_type": "code",
   "execution_count": 1,
   "id": "ea7795b3-f753-47fc-92d8-df51d4b1a850",
   "metadata": {},
   "outputs": [],
   "source": [
    "import pandas"
   ]
  },
  {
   "cell_type": "markdown",
   "id": "32669621-2b78-4ce8-9604-6341ed39fdbb",
   "metadata": {},
   "source": [
    "You can also _alias_ a package when you import it, which is simply giving it a different name.  This is often done to shorten the package name so when you need to reference it you don't need to type out the full name.  You will almost always see `pandas` imported like this:"
   ]
  },
  {
   "cell_type": "code",
   "execution_count": 2,
   "id": "1bd663dd-9f91-471d-b9c0-cafb5aca2a67",
   "metadata": {},
   "outputs": [],
   "source": [
    "import pandas as pd"
   ]
  },
  {
   "cell_type": "markdown",
   "id": "7aa31b20-ffd8-4e5a-9a1d-affd73e22e0b",
   "metadata": {},
   "source": [
    "With this syntax, we can reference panda by typing `pd` instead of `pandas`\n",
    "\n",
    "## Pandas\n",
    "\n",
    "Now that you know a little bit about third party packages, let's dig into `pandas` a bit more.  We're going to be sort of following along with the pandas 10 minute guide linked below.\n",
    "\n",
    "[Pandas 10 minutes guide](https://pandas.pydata.org/docs/user_guide/10min.html)"
   ]
  },
  {
   "cell_type": "markdown",
   "id": "22d77c2e-adb2-4b78-8086-e4f1fb061b25",
   "metadata": {},
   "source": [
    "### Data Structures\n",
    "\n",
    "Pandas has 2 basic data structures:\n",
    "- Series\n",
    "  - A 1-dimensional array holding data of any single type\n",
    "- Dataframe\n",
    "  - A 2-dimensional structure which holds data in a tabular format like a table with rows and columns\n",
    "\n",
    "#### Series\n",
    "In some sense the `series` data type can be thought of sort of like a `list`.  It is a 1-dimensional array that can have a label - or name - attached to it.  The big difference between a `list` and a pandas `series` is that it is generally not considered best practice to iterate over any pandas objects or to access their elements by their ordinal indicies.  We instead access elements or ranges of elements in pandas objects using a named index, or by using built in pandas accessor methods like `loc` or `at`, which we will touch on later.\n",
    "\n",
    "See below for an example of a `series`:"
   ]
  },
  {
   "cell_type": "code",
   "execution_count": 3,
   "id": "e0ab9247-7dac-46f3-b800-695bad2afcdb",
   "metadata": {},
   "outputs": [
    {
     "data": {
      "text/plain": [
       "0     Apple\n",
       "1    Banana\n",
       "2     Grape\n",
       "3      Kiwi\n",
       "dtype: object"
      ]
     },
     "execution_count": 3,
     "metadata": {},
     "output_type": "execute_result"
    }
   ],
   "source": [
    "s = pd.Series(data = ['Apple', 'Banana', 'Grape', 'Kiwi'])\n",
    "s"
   ]
  },
  {
   "cell_type": "markdown",
   "id": "4588861a-fd62-461b-a330-6bb85e40608a",
   "metadata": {},
   "source": [
    "When we show the `series` in the cell output, we get a few pieces of information about it:\n",
    "1. All of the values in the series\n",
    "2. The indicies of the values in the series (0 through 3)\n",
    "3. The dtype (data type) `object`\n",
    "\n",
    "The `object` data type is one we haven't seen before.  It is a versatile type used for text data (strings), mixed-type columns, or when a column contains Python objects that don't fit other specific data types.\n",
    "\n",
    "If we want to, we can also name a `series` by passing it a value for the option `name` argument:"
   ]
  },
  {
   "cell_type": "code",
   "execution_count": 4,
   "id": "484e0813-4796-4cbf-88b1-c2518a986e1e",
   "metadata": {},
   "outputs": [
    {
     "data": {
      "text/plain": [
       "0     Apple\n",
       "1    Banana\n",
       "2     Grape\n",
       "3      Kiwi\n",
       "Name: Fruits, dtype: object"
      ]
     },
     "execution_count": 4,
     "metadata": {},
     "output_type": "execute_result"
    }
   ],
   "source": [
    "s = pd.Series(data = ['Apple', 'Banana', 'Grape', 'Kiwi'], name = 'Fruits')\n",
    "s"
   ]
  },
  {
   "cell_type": "markdown",
   "id": "b1aed634-ea3b-4708-842f-d51a16539e13",
   "metadata": {},
   "source": [
    "When we are just using the `series` the `name` argument can seem kind of frivilous, after all, we can name the series when we assign it to a variable, like above the \"name\" of the series can be thought of as `s` since that is the variable we store the `series` in.  When we begin working with the `dataframe` object, however, the value of the `name` becomes more apparent.  \n",
    "\n",
    "#### Dataframe\n",
    "A `dataframe` is a tabular data structure made up of pandas `series` objects.\n",
    "\n",
    "![excel sheet](https://s3.amazonaws.com/libapps/accounts/1505/images/Excel_Example_1.jpg)"
   ]
  },
  {
   "cell_type": "markdown",
   "id": "bceb158c-a7c7-403f-8941-2f236b48e24b",
   "metadata": {},
   "source": [
    "Think of a pandas `dataframe` like the above excel sheet.  It has columns (A, B, C, and D) and rows (1, 2, 3, 4, and 5).  Though, one of those rows is not really a row, right? Row 1 doesn't contain `values`, it contains `headers` (or names) which are labels for the values that are contained in the columns they are at the top of.\n",
    "\n",
    "This is where the `name` attribute of a pandas series actually sees some use.  Since a pandas `dataframe` is simply a collection of pandas `series` objects!  If we are to use the above excel sheet image as an example, each column would be a pandas `series` where the value in row 1 would be the `name` of that `series`.  And the sheet itself would be the pandas `dataframe`.\n",
    "\n",
    "Just because `dataframe` objects are made of `series` objects technically does not mean we need to use `series` objects to _create_ a `dataframe`.\n",
    "\n",
    "In fact, one of the easiest ways is to use a `dictionary`!  In this case the `keys` represent the column names or headers, and the values represent the values for that column. \n",
    "\n",
    "Let's see an example."
   ]
  },
  {
   "cell_type": "code",
   "execution_count": 7,
   "id": "9831dd6d-8c6a-4ab1-ac75-97c00940e613",
   "metadata": {},
   "outputs": [
    {
     "data": {
      "text/html": [
       "<div>\n",
       "<style scoped>\n",
       "    .dataframe tbody tr th:only-of-type {\n",
       "        vertical-align: middle;\n",
       "    }\n",
       "\n",
       "    .dataframe tbody tr th {\n",
       "        vertical-align: top;\n",
       "    }\n",
       "\n",
       "    .dataframe thead th {\n",
       "        text-align: right;\n",
       "    }\n",
       "</style>\n",
       "<table border=\"1\" class=\"dataframe\">\n",
       "  <thead>\n",
       "    <tr style=\"text-align: right;\">\n",
       "      <th></th>\n",
       "      <th>name</th>\n",
       "      <th>age</th>\n",
       "      <th>job</th>\n",
       "    </tr>\n",
       "  </thead>\n",
       "  <tbody>\n",
       "    <tr>\n",
       "      <th>0</th>\n",
       "      <td>Thomas</td>\n",
       "      <td>12</td>\n",
       "      <td>None</td>\n",
       "    </tr>\n",
       "    <tr>\n",
       "      <th>1</th>\n",
       "      <td>Aaron</td>\n",
       "      <td>32</td>\n",
       "      <td>Data Analyst</td>\n",
       "    </tr>\n",
       "    <tr>\n",
       "      <th>2</th>\n",
       "      <td>Amber</td>\n",
       "      <td>40</td>\n",
       "      <td>Lawyer</td>\n",
       "    </tr>\n",
       "    <tr>\n",
       "      <th>3</th>\n",
       "      <td>Ray</td>\n",
       "      <td>24</td>\n",
       "      <td>Server</td>\n",
       "    </tr>\n",
       "  </tbody>\n",
       "</table>\n",
       "</div>"
      ],
      "text/plain": [
       "     name  age           job\n",
       "0  Thomas   12          None\n",
       "1   Aaron   32  Data Analyst\n",
       "2   Amber   40        Lawyer\n",
       "3     Ray   24        Server"
      ]
     },
     "execution_count": 7,
     "metadata": {},
     "output_type": "execute_result"
    }
   ],
   "source": [
    "data = {\n",
    "    'name':['Thomas', 'Aaron', 'Amber', 'Ray'],\n",
    "    'age':[12, 32, 40, 24],\n",
    "    'job':[None, 'Data Analyst', 'Lawyer', 'Server']\n",
    "}\n",
    "\n",
    "df = pd.DataFrame(data)\n",
    "df"
   ]
  },
  {
   "cell_type": "markdown",
   "id": "a61489ff-8d11-4f50-8eea-605c09e8abe6",
   "metadata": {},
   "source": [
    "See how easy that was?  With pandas, you can organize and begin working with data incredibly quickly, and it makes it very easy and intuitive.\n",
    "\n",
    "Now that we have our dataframe, there are a couple of things we'll want to do with it, to better understand the data that we have.  Let's first look at how to get all of the `data types` from the dataframe using the `dtypes` attribute."
   ]
  },
  {
   "cell_type": "code",
   "execution_count": 8,
   "id": "3bfa72ba-49eb-432f-886b-dabb777aa833",
   "metadata": {},
   "outputs": [
    {
     "data": {
      "text/plain": [
       "name    object\n",
       "age      int64\n",
       "job     object\n",
       "dtype: object"
      ]
     },
     "execution_count": 8,
     "metadata": {},
     "output_type": "execute_result"
    }
   ],
   "source": [
    "df.dtypes"
   ]
  },
  {
   "cell_type": "markdown",
   "id": "618e5224-2232-40c0-915b-d3451fed39de",
   "metadata": {},
   "source": [
    "Of course there are many more possible data types for our dataframes such as `datetime64` or `float64` etc. But for our purposes, there is no need to worry about all the possibilities for now, it is best to learn specifics when you have a specific use case, and focus on the basics when you are first learning.\n",
    "\n",
    "#### Loading data\n",
    "\n",
    "In order to understand the basics a bit more, let's get our hands on a bigger dataset.  In the data folder, there is a csv with flight data from [kaggle](https://www.kaggle.com/datasets/rohitgrewal/airlines-flights-data?resource=download)\n",
    "\n",
    "In order to load a csv file into a pandas dataframe we use the `from_csv` method from the pandas package!"
   ]
  },
  {
   "cell_type": "code",
   "execution_count": 17,
   "id": "26191c62-f10f-441b-b9d0-b5d16445be13",
   "metadata": {},
   "outputs": [],
   "source": [
    "import os\n",
    "os.getcwd()\n",
    "flight_data = pd.read_csv(r\"data\\airlines_flights_data.csv\")"
   ]
  },
  {
   "cell_type": "markdown",
   "id": "5ce74d88-a60a-44c4-902f-756c5b03c827",
   "metadata": {},
   "source": [
    "Now, as you might be able to tell, this dataset is quite a bit larger than our 4-row one above.  Let's see exactly how large by checking the `shape` attribute on our new dataframe."
   ]
  },
  {
   "cell_type": "code",
   "execution_count": 19,
   "id": "7ea75aba-13d3-4c8f-bd51-0fba2794222c",
   "metadata": {},
   "outputs": [
    {
     "data": {
      "text/plain": [
       "(300153, 12)"
      ]
     },
     "execution_count": 19,
     "metadata": {},
     "output_type": "execute_result"
    }
   ],
   "source": [
    "flight_data.shape"
   ]
  },
  {
   "cell_type": "markdown",
   "id": "fb7cebe4-6cf0-429e-86e7-5e5a16244355",
   "metadata": {},
   "source": [
    "Wow, 300,000 rows!  That is quite a large dataset.  As you can imagine, with a dataset this large it can be difficult to get a good understanding of the data by just looking at it.  We are going to need to make use of a few descriptive methods that pandas makes available to us.  Let's first check the datatypes of all of the columns in our new dataset by checking the `dtypes` attribute."
   ]
  },
  {
   "cell_type": "code",
   "execution_count": 20,
   "id": "f1625287-5ba4-45a6-a018-9aac5e1996d9",
   "metadata": {},
   "outputs": [
    {
     "data": {
      "text/plain": [
       "index                 int64\n",
       "airline              object\n",
       "flight               object\n",
       "source_city          object\n",
       "departure_time       object\n",
       "stops                object\n",
       "arrival_time         object\n",
       "destination_city     object\n",
       "class                object\n",
       "duration            float64\n",
       "days_left             int64\n",
       "price                 int64\n",
       "dtype: object"
      ]
     },
     "execution_count": 20,
     "metadata": {},
     "output_type": "execute_result"
    }
   ],
   "source": [
    "flight_data.dtypes"
   ]
  },
  {
   "cell_type": "markdown",
   "id": "31ef78ca-2e2b-4dbe-bec5-fb796e4787ac",
   "metadata": {},
   "source": [
    "Hmm alright, so it appears that we mostly have `object` data, with a few `int64` and `float64` columns as well.  Let's actually take a look at a few columns of data to get a quick look at what some of the values look like.  We peek at the first few rows of a large dataset using the `.head()` method on a dataframe, like so:"
   ]
  },
  {
   "cell_type": "code",
   "execution_count": 21,
   "id": "e2221f98-215b-4483-b01f-cba4b4e9202f",
   "metadata": {},
   "outputs": [
    {
     "data": {
      "text/html": [
       "<div>\n",
       "<style scoped>\n",
       "    .dataframe tbody tr th:only-of-type {\n",
       "        vertical-align: middle;\n",
       "    }\n",
       "\n",
       "    .dataframe tbody tr th {\n",
       "        vertical-align: top;\n",
       "    }\n",
       "\n",
       "    .dataframe thead th {\n",
       "        text-align: right;\n",
       "    }\n",
       "</style>\n",
       "<table border=\"1\" class=\"dataframe\">\n",
       "  <thead>\n",
       "    <tr style=\"text-align: right;\">\n",
       "      <th></th>\n",
       "      <th>index</th>\n",
       "      <th>airline</th>\n",
       "      <th>flight</th>\n",
       "      <th>source_city</th>\n",
       "      <th>departure_time</th>\n",
       "      <th>stops</th>\n",
       "      <th>arrival_time</th>\n",
       "      <th>destination_city</th>\n",
       "      <th>class</th>\n",
       "      <th>duration</th>\n",
       "      <th>days_left</th>\n",
       "      <th>price</th>\n",
       "    </tr>\n",
       "  </thead>\n",
       "  <tbody>\n",
       "    <tr>\n",
       "      <th>0</th>\n",
       "      <td>0</td>\n",
       "      <td>SpiceJet</td>\n",
       "      <td>SG-8709</td>\n",
       "      <td>Delhi</td>\n",
       "      <td>Evening</td>\n",
       "      <td>zero</td>\n",
       "      <td>Night</td>\n",
       "      <td>Mumbai</td>\n",
       "      <td>Economy</td>\n",
       "      <td>2.17</td>\n",
       "      <td>1</td>\n",
       "      <td>5953</td>\n",
       "    </tr>\n",
       "    <tr>\n",
       "      <th>1</th>\n",
       "      <td>1</td>\n",
       "      <td>SpiceJet</td>\n",
       "      <td>SG-8157</td>\n",
       "      <td>Delhi</td>\n",
       "      <td>Early_Morning</td>\n",
       "      <td>zero</td>\n",
       "      <td>Morning</td>\n",
       "      <td>Mumbai</td>\n",
       "      <td>Economy</td>\n",
       "      <td>2.33</td>\n",
       "      <td>1</td>\n",
       "      <td>5953</td>\n",
       "    </tr>\n",
       "    <tr>\n",
       "      <th>2</th>\n",
       "      <td>2</td>\n",
       "      <td>AirAsia</td>\n",
       "      <td>I5-764</td>\n",
       "      <td>Delhi</td>\n",
       "      <td>Early_Morning</td>\n",
       "      <td>zero</td>\n",
       "      <td>Early_Morning</td>\n",
       "      <td>Mumbai</td>\n",
       "      <td>Economy</td>\n",
       "      <td>2.17</td>\n",
       "      <td>1</td>\n",
       "      <td>5956</td>\n",
       "    </tr>\n",
       "    <tr>\n",
       "      <th>3</th>\n",
       "      <td>3</td>\n",
       "      <td>Vistara</td>\n",
       "      <td>UK-995</td>\n",
       "      <td>Delhi</td>\n",
       "      <td>Morning</td>\n",
       "      <td>zero</td>\n",
       "      <td>Afternoon</td>\n",
       "      <td>Mumbai</td>\n",
       "      <td>Economy</td>\n",
       "      <td>2.25</td>\n",
       "      <td>1</td>\n",
       "      <td>5955</td>\n",
       "    </tr>\n",
       "    <tr>\n",
       "      <th>4</th>\n",
       "      <td>4</td>\n",
       "      <td>Vistara</td>\n",
       "      <td>UK-963</td>\n",
       "      <td>Delhi</td>\n",
       "      <td>Morning</td>\n",
       "      <td>zero</td>\n",
       "      <td>Morning</td>\n",
       "      <td>Mumbai</td>\n",
       "      <td>Economy</td>\n",
       "      <td>2.33</td>\n",
       "      <td>1</td>\n",
       "      <td>5955</td>\n",
       "    </tr>\n",
       "  </tbody>\n",
       "</table>\n",
       "</div>"
      ],
      "text/plain": [
       "   index   airline   flight source_city departure_time stops   arrival_time  \\\n",
       "0      0  SpiceJet  SG-8709       Delhi        Evening  zero          Night   \n",
       "1      1  SpiceJet  SG-8157       Delhi  Early_Morning  zero        Morning   \n",
       "2      2   AirAsia   I5-764       Delhi  Early_Morning  zero  Early_Morning   \n",
       "3      3   Vistara   UK-995       Delhi        Morning  zero      Afternoon   \n",
       "4      4   Vistara   UK-963       Delhi        Morning  zero        Morning   \n",
       "\n",
       "  destination_city    class  duration  days_left  price  \n",
       "0           Mumbai  Economy      2.17          1   5953  \n",
       "1           Mumbai  Economy      2.33          1   5953  \n",
       "2           Mumbai  Economy      2.17          1   5956  \n",
       "3           Mumbai  Economy      2.25          1   5955  \n",
       "4           Mumbai  Economy      2.33          1   5955  "
      ]
     },
     "execution_count": 21,
     "metadata": {},
     "output_type": "execute_result"
    }
   ],
   "source": [
    "flight_data.head()"
   ]
  },
  {
   "cell_type": "markdown",
   "id": "83342581-d45b-4060-8443-ac2194d7e346",
   "metadata": {},
   "source": [
    "Here we can take a look at the data we're dealing with a little more closely to get a better understanding of how we can work with it!  \n",
    "\n",
    "There's a few interesting things in here, for instance we see the integer columns are:\n",
    "- index\n",
    "- days_left\n",
    "- price\n",
    "\n",
    "And the float column is \n",
    "- duration (presumably in hours)\n",
    "\n",
    "looking at the actual values in these columns makes it easier to understand what they actually represent, as sometimes column names are not descriptive enough alone.\n",
    "\n",
    "Since we have some numerical columns, we may want to get some summary statistics about them.  This is a good use case for the `.describe()` method which pandas gives us on dataframes.  This will populate lots of summary statistics like mean, median, and quartiles."
   ]
  },
  {
   "cell_type": "code",
   "execution_count": 22,
   "id": "40e5385f-c2f0-4325-a89d-354150810b5f",
   "metadata": {},
   "outputs": [
    {
     "data": {
      "text/html": [
       "<div>\n",
       "<style scoped>\n",
       "    .dataframe tbody tr th:only-of-type {\n",
       "        vertical-align: middle;\n",
       "    }\n",
       "\n",
       "    .dataframe tbody tr th {\n",
       "        vertical-align: top;\n",
       "    }\n",
       "\n",
       "    .dataframe thead th {\n",
       "        text-align: right;\n",
       "    }\n",
       "</style>\n",
       "<table border=\"1\" class=\"dataframe\">\n",
       "  <thead>\n",
       "    <tr style=\"text-align: right;\">\n",
       "      <th></th>\n",
       "      <th>index</th>\n",
       "      <th>duration</th>\n",
       "      <th>days_left</th>\n",
       "      <th>price</th>\n",
       "    </tr>\n",
       "  </thead>\n",
       "  <tbody>\n",
       "    <tr>\n",
       "      <th>count</th>\n",
       "      <td>300153.000000</td>\n",
       "      <td>300153.000000</td>\n",
       "      <td>300153.000000</td>\n",
       "      <td>300153.000000</td>\n",
       "    </tr>\n",
       "    <tr>\n",
       "      <th>mean</th>\n",
       "      <td>150076.000000</td>\n",
       "      <td>12.221021</td>\n",
       "      <td>26.004751</td>\n",
       "      <td>20889.660523</td>\n",
       "    </tr>\n",
       "    <tr>\n",
       "      <th>std</th>\n",
       "      <td>86646.852011</td>\n",
       "      <td>7.191997</td>\n",
       "      <td>13.561004</td>\n",
       "      <td>22697.767366</td>\n",
       "    </tr>\n",
       "    <tr>\n",
       "      <th>min</th>\n",
       "      <td>0.000000</td>\n",
       "      <td>0.830000</td>\n",
       "      <td>1.000000</td>\n",
       "      <td>1105.000000</td>\n",
       "    </tr>\n",
       "    <tr>\n",
       "      <th>25%</th>\n",
       "      <td>75038.000000</td>\n",
       "      <td>6.830000</td>\n",
       "      <td>15.000000</td>\n",
       "      <td>4783.000000</td>\n",
       "    </tr>\n",
       "    <tr>\n",
       "      <th>50%</th>\n",
       "      <td>150076.000000</td>\n",
       "      <td>11.250000</td>\n",
       "      <td>26.000000</td>\n",
       "      <td>7425.000000</td>\n",
       "    </tr>\n",
       "    <tr>\n",
       "      <th>75%</th>\n",
       "      <td>225114.000000</td>\n",
       "      <td>16.170000</td>\n",
       "      <td>38.000000</td>\n",
       "      <td>42521.000000</td>\n",
       "    </tr>\n",
       "    <tr>\n",
       "      <th>max</th>\n",
       "      <td>300152.000000</td>\n",
       "      <td>49.830000</td>\n",
       "      <td>49.000000</td>\n",
       "      <td>123071.000000</td>\n",
       "    </tr>\n",
       "  </tbody>\n",
       "</table>\n",
       "</div>"
      ],
      "text/plain": [
       "               index       duration      days_left          price\n",
       "count  300153.000000  300153.000000  300153.000000  300153.000000\n",
       "mean   150076.000000      12.221021      26.004751   20889.660523\n",
       "std     86646.852011       7.191997      13.561004   22697.767366\n",
       "min         0.000000       0.830000       1.000000    1105.000000\n",
       "25%     75038.000000       6.830000      15.000000    4783.000000\n",
       "50%    150076.000000      11.250000      26.000000    7425.000000\n",
       "75%    225114.000000      16.170000      38.000000   42521.000000\n",
       "max    300152.000000      49.830000      49.000000  123071.000000"
      ]
     },
     "execution_count": 22,
     "metadata": {},
     "output_type": "execute_result"
    }
   ],
   "source": [
    "flight_data.describe()"
   ]
  },
  {
   "cell_type": "markdown",
   "id": "6ba5746e-66fd-4729-9bb0-ea6f0a2b2a4f",
   "metadata": {},
   "source": [
    "#### Filtering datasets"
   ]
  },
  {
   "cell_type": "markdown",
   "id": "d60abf64-3682-4e6c-83df-0a84e1a91974",
   "metadata": {},
   "source": [
    "Now, one thing we may find interesting at various points is to filter or select only particular types of records from our dataframe.  I know earlier I said it is bad practice to select records from a dataframe using their ordinal index (i.e. the number which corresponds to which record it is in the dataset), but sometimes in certain cases you may want to do so for one reason or another.  I would still recommend strongly against becoming reliant on iterating over the rows in a dataframe, or accessing records using their index, but it is still good to know how to do so.  \n",
    "\n",
    "We took a look at the first 5 rows of the `flight_data` dataset above, but let's say we just wanted the second row.  How would we do that?\n",
    "\n",
    "It's quite simple, in fact it a similar syntax to accesing the second element in a list using a slice!"
   ]
  },
  {
   "cell_type": "code",
   "execution_count": 25,
   "id": "5ec60023-0c12-4f07-b4be-5daed588776c",
   "metadata": {},
   "outputs": [
    {
     "data": {
      "text/html": [
       "<div>\n",
       "<style scoped>\n",
       "    .dataframe tbody tr th:only-of-type {\n",
       "        vertical-align: middle;\n",
       "    }\n",
       "\n",
       "    .dataframe tbody tr th {\n",
       "        vertical-align: top;\n",
       "    }\n",
       "\n",
       "    .dataframe thead th {\n",
       "        text-align: right;\n",
       "    }\n",
       "</style>\n",
       "<table border=\"1\" class=\"dataframe\">\n",
       "  <thead>\n",
       "    <tr style=\"text-align: right;\">\n",
       "      <th></th>\n",
       "      <th>index</th>\n",
       "      <th>airline</th>\n",
       "      <th>flight</th>\n",
       "      <th>source_city</th>\n",
       "      <th>departure_time</th>\n",
       "      <th>stops</th>\n",
       "      <th>arrival_time</th>\n",
       "      <th>destination_city</th>\n",
       "      <th>class</th>\n",
       "      <th>duration</th>\n",
       "      <th>days_left</th>\n",
       "      <th>price</th>\n",
       "    </tr>\n",
       "  </thead>\n",
       "  <tbody>\n",
       "    <tr>\n",
       "      <th>1</th>\n",
       "      <td>1</td>\n",
       "      <td>SpiceJet</td>\n",
       "      <td>SG-8157</td>\n",
       "      <td>Delhi</td>\n",
       "      <td>Early_Morning</td>\n",
       "      <td>zero</td>\n",
       "      <td>Morning</td>\n",
       "      <td>Mumbai</td>\n",
       "      <td>Economy</td>\n",
       "      <td>2.33</td>\n",
       "      <td>1</td>\n",
       "      <td>5953</td>\n",
       "    </tr>\n",
       "  </tbody>\n",
       "</table>\n",
       "</div>"
      ],
      "text/plain": [
       "   index   airline   flight source_city departure_time stops arrival_time  \\\n",
       "1      1  SpiceJet  SG-8157       Delhi  Early_Morning  zero      Morning   \n",
       "\n",
       "  destination_city    class  duration  days_left  price  \n",
       "1           Mumbai  Economy      2.33          1   5953  "
      ]
     },
     "execution_count": 25,
     "metadata": {},
     "output_type": "execute_result"
    }
   ],
   "source": [
    "flight_data[1:2]"
   ]
  },
  {
   "cell_type": "markdown",
   "id": "7b2eece5-345b-4b74-84c3-e027bc468724",
   "metadata": {},
   "source": [
    "You might recall when we are accessing a slice of a list, we use two indicies, the `start` and the `stop`.  As you also should recall, the `stop` index is __not__ included in the result.  That is why we must past `1:2` in this case, because we start with one, and we stop with 2, but 2 is not included.  We can also use this syntax to return more rows by increasing the stop index:"
   ]
  },
  {
   "cell_type": "code",
   "execution_count": 26,
   "id": "57012cb3-fd79-4ba3-b0ce-a298364dbd18",
   "metadata": {},
   "outputs": [
    {
     "data": {
      "text/html": [
       "<div>\n",
       "<style scoped>\n",
       "    .dataframe tbody tr th:only-of-type {\n",
       "        vertical-align: middle;\n",
       "    }\n",
       "\n",
       "    .dataframe tbody tr th {\n",
       "        vertical-align: top;\n",
       "    }\n",
       "\n",
       "    .dataframe thead th {\n",
       "        text-align: right;\n",
       "    }\n",
       "</style>\n",
       "<table border=\"1\" class=\"dataframe\">\n",
       "  <thead>\n",
       "    <tr style=\"text-align: right;\">\n",
       "      <th></th>\n",
       "      <th>index</th>\n",
       "      <th>airline</th>\n",
       "      <th>flight</th>\n",
       "      <th>source_city</th>\n",
       "      <th>departure_time</th>\n",
       "      <th>stops</th>\n",
       "      <th>arrival_time</th>\n",
       "      <th>destination_city</th>\n",
       "      <th>class</th>\n",
       "      <th>duration</th>\n",
       "      <th>days_left</th>\n",
       "      <th>price</th>\n",
       "    </tr>\n",
       "  </thead>\n",
       "  <tbody>\n",
       "    <tr>\n",
       "      <th>1</th>\n",
       "      <td>1</td>\n",
       "      <td>SpiceJet</td>\n",
       "      <td>SG-8157</td>\n",
       "      <td>Delhi</td>\n",
       "      <td>Early_Morning</td>\n",
       "      <td>zero</td>\n",
       "      <td>Morning</td>\n",
       "      <td>Mumbai</td>\n",
       "      <td>Economy</td>\n",
       "      <td>2.33</td>\n",
       "      <td>1</td>\n",
       "      <td>5953</td>\n",
       "    </tr>\n",
       "    <tr>\n",
       "      <th>2</th>\n",
       "      <td>2</td>\n",
       "      <td>AirAsia</td>\n",
       "      <td>I5-764</td>\n",
       "      <td>Delhi</td>\n",
       "      <td>Early_Morning</td>\n",
       "      <td>zero</td>\n",
       "      <td>Early_Morning</td>\n",
       "      <td>Mumbai</td>\n",
       "      <td>Economy</td>\n",
       "      <td>2.17</td>\n",
       "      <td>1</td>\n",
       "      <td>5956</td>\n",
       "    </tr>\n",
       "    <tr>\n",
       "      <th>3</th>\n",
       "      <td>3</td>\n",
       "      <td>Vistara</td>\n",
       "      <td>UK-995</td>\n",
       "      <td>Delhi</td>\n",
       "      <td>Morning</td>\n",
       "      <td>zero</td>\n",
       "      <td>Afternoon</td>\n",
       "      <td>Mumbai</td>\n",
       "      <td>Economy</td>\n",
       "      <td>2.25</td>\n",
       "      <td>1</td>\n",
       "      <td>5955</td>\n",
       "    </tr>\n",
       "  </tbody>\n",
       "</table>\n",
       "</div>"
      ],
      "text/plain": [
       "   index   airline   flight source_city departure_time stops   arrival_time  \\\n",
       "1      1  SpiceJet  SG-8157       Delhi  Early_Morning  zero        Morning   \n",
       "2      2   AirAsia   I5-764       Delhi  Early_Morning  zero  Early_Morning   \n",
       "3      3   Vistara   UK-995       Delhi        Morning  zero      Afternoon   \n",
       "\n",
       "  destination_city    class  duration  days_left  price  \n",
       "1           Mumbai  Economy      2.33          1   5953  \n",
       "2           Mumbai  Economy      2.17          1   5956  \n",
       "3           Mumbai  Economy      2.25          1   5955  "
      ]
     },
     "execution_count": 26,
     "metadata": {},
     "output_type": "execute_result"
    }
   ],
   "source": [
    "flight_data[1:4]"
   ]
  },
  {
   "cell_type": "markdown",
   "id": "3aaa9fd7-44e1-4980-a5c8-bec03ebf7531",
   "metadata": {},
   "source": [
    "This is helpful in certain circumstances, but there are much more powerful ways to filter a dataframe to only include records that you are interested in.\n",
    "\n",
    "For instance, let's say we were doing an analysis on early morning flights only, and we wanted to look at just those flights.  We can do so by filtering the dataframe to only include records for which the `departure_time` field is equal to `Early_Morning` using the following syntax:"
   ]
  },
  {
   "cell_type": "code",
   "execution_count": 29,
   "id": "a9f17ae9-40c7-4010-b151-aa958736f7b1",
   "metadata": {},
   "outputs": [
    {
     "data": {
      "text/html": [
       "<div>\n",
       "<style scoped>\n",
       "    .dataframe tbody tr th:only-of-type {\n",
       "        vertical-align: middle;\n",
       "    }\n",
       "\n",
       "    .dataframe tbody tr th {\n",
       "        vertical-align: top;\n",
       "    }\n",
       "\n",
       "    .dataframe thead th {\n",
       "        text-align: right;\n",
       "    }\n",
       "</style>\n",
       "<table border=\"1\" class=\"dataframe\">\n",
       "  <thead>\n",
       "    <tr style=\"text-align: right;\">\n",
       "      <th></th>\n",
       "      <th>index</th>\n",
       "      <th>airline</th>\n",
       "      <th>flight</th>\n",
       "      <th>source_city</th>\n",
       "      <th>departure_time</th>\n",
       "      <th>stops</th>\n",
       "      <th>arrival_time</th>\n",
       "      <th>destination_city</th>\n",
       "      <th>class</th>\n",
       "      <th>duration</th>\n",
       "      <th>days_left</th>\n",
       "      <th>price</th>\n",
       "    </tr>\n",
       "  </thead>\n",
       "  <tbody>\n",
       "    <tr>\n",
       "      <th>1</th>\n",
       "      <td>1</td>\n",
       "      <td>SpiceJet</td>\n",
       "      <td>SG-8157</td>\n",
       "      <td>Delhi</td>\n",
       "      <td>Early_Morning</td>\n",
       "      <td>zero</td>\n",
       "      <td>Morning</td>\n",
       "      <td>Mumbai</td>\n",
       "      <td>Economy</td>\n",
       "      <td>2.33</td>\n",
       "      <td>1</td>\n",
       "      <td>5953</td>\n",
       "    </tr>\n",
       "    <tr>\n",
       "      <th>2</th>\n",
       "      <td>2</td>\n",
       "      <td>AirAsia</td>\n",
       "      <td>I5-764</td>\n",
       "      <td>Delhi</td>\n",
       "      <td>Early_Morning</td>\n",
       "      <td>zero</td>\n",
       "      <td>Early_Morning</td>\n",
       "      <td>Mumbai</td>\n",
       "      <td>Economy</td>\n",
       "      <td>2.17</td>\n",
       "      <td>1</td>\n",
       "      <td>5956</td>\n",
       "    </tr>\n",
       "    <tr>\n",
       "      <th>8</th>\n",
       "      <td>8</td>\n",
       "      <td>GO_FIRST</td>\n",
       "      <td>G8-334</td>\n",
       "      <td>Delhi</td>\n",
       "      <td>Early_Morning</td>\n",
       "      <td>zero</td>\n",
       "      <td>Morning</td>\n",
       "      <td>Mumbai</td>\n",
       "      <td>Economy</td>\n",
       "      <td>2.17</td>\n",
       "      <td>1</td>\n",
       "      <td>5954</td>\n",
       "    </tr>\n",
       "    <tr>\n",
       "      <th>12</th>\n",
       "      <td>12</td>\n",
       "      <td>Indigo</td>\n",
       "      <td>6E-5001</td>\n",
       "      <td>Delhi</td>\n",
       "      <td>Early_Morning</td>\n",
       "      <td>zero</td>\n",
       "      <td>Morning</td>\n",
       "      <td>Mumbai</td>\n",
       "      <td>Economy</td>\n",
       "      <td>2.17</td>\n",
       "      <td>1</td>\n",
       "      <td>5955</td>\n",
       "    </tr>\n",
       "    <tr>\n",
       "      <th>16</th>\n",
       "      <td>16</td>\n",
       "      <td>Air_India</td>\n",
       "      <td>AI-887</td>\n",
       "      <td>Delhi</td>\n",
       "      <td>Early_Morning</td>\n",
       "      <td>zero</td>\n",
       "      <td>Morning</td>\n",
       "      <td>Mumbai</td>\n",
       "      <td>Economy</td>\n",
       "      <td>2.08</td>\n",
       "      <td>1</td>\n",
       "      <td>5955</td>\n",
       "    </tr>\n",
       "  </tbody>\n",
       "</table>\n",
       "</div>"
      ],
      "text/plain": [
       "    index    airline   flight source_city departure_time stops   arrival_time  \\\n",
       "1       1   SpiceJet  SG-8157       Delhi  Early_Morning  zero        Morning   \n",
       "2       2    AirAsia   I5-764       Delhi  Early_Morning  zero  Early_Morning   \n",
       "8       8   GO_FIRST   G8-334       Delhi  Early_Morning  zero        Morning   \n",
       "12     12     Indigo  6E-5001       Delhi  Early_Morning  zero        Morning   \n",
       "16     16  Air_India   AI-887       Delhi  Early_Morning  zero        Morning   \n",
       "\n",
       "   destination_city    class  duration  days_left  price  \n",
       "1            Mumbai  Economy      2.33          1   5953  \n",
       "2            Mumbai  Economy      2.17          1   5956  \n",
       "8            Mumbai  Economy      2.17          1   5954  \n",
       "12           Mumbai  Economy      2.17          1   5955  \n",
       "16           Mumbai  Economy      2.08          1   5955  "
      ]
     },
     "execution_count": 29,
     "metadata": {},
     "output_type": "execute_result"
    }
   ],
   "source": [
    "early_morning_flights = flight_data[flight_data['departure_time'] == 'Early_Morning']\n",
    "early_morning_flights.head()"
   ]
  },
  {
   "cell_type": "markdown",
   "id": "0f51d310-32c0-47ee-a956-c3fcf856b8d4",
   "metadata": {},
   "source": [
    "This syntax appears kind of tricky at first, but essentially what you're doing is creating a `boolean` expression which is evaluated against every row in the dataframe, and if that expression evaluates to `False`, the row is excluded.  \n",
    "\n",
    "In this case, the boolean expression is `flight_data['departure_time'] == 'Early_Morning'`, and we're feeding that into the `flight_data[ _ ]` brackets, which is how it gets applied to that dataframe!"
   ]
  },
  {
   "cell_type": "markdown",
   "id": "4914cea1-b7f2-4fe3-a1b8-7fab26faa9a0",
   "metadata": {},
   "source": [
    "#### Operations\n",
    "1. Change the stops to a numerical value\n",
    "2. Divide duration by stops"
   ]
  },
  {
   "cell_type": "markdown",
   "id": "2eb015e0-b7c2-420c-b97d-89f48f41c5a5",
   "metadata": {},
   "source": [
    "#### Grouping\n",
    "1. Group by source_city and average cost and duration"
   ]
  },
  {
   "cell_type": "code",
   "execution_count": null,
   "id": "151ded15-3415-4c68-8dde-6f7b59f7a616",
   "metadata": {},
   "outputs": [],
   "source": []
  }
 ],
 "metadata": {
  "kernelspec": {
   "display_name": "dataEnv",
   "language": "python",
   "name": "dataenv"
  },
  "language_info": {
   "codemirror_mode": {
    "name": "ipython",
    "version": 3
   },
   "file_extension": ".py",
   "mimetype": "text/x-python",
   "name": "python",
   "nbconvert_exporter": "python",
   "pygments_lexer": "ipython3",
   "version": "3.13.5"
  }
 },
 "nbformat": 4,
 "nbformat_minor": 5
}
